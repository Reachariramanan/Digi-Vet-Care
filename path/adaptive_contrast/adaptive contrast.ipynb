{
 "cells": [
  {
   "cell_type": "code",
   "execution_count": 45,
   "metadata": {},
   "outputs": [],
   "source": [
    "import numpy as np\n",
    "import cv2"
   ]
  },
  {
   "cell_type": "code",
   "execution_count": 46,
   "metadata": {},
   "outputs": [],
   "source": [
    "def getVarianceMean(scr, winSize):\n",
    "    if scr is None or winSize is None: \n",
    "        print(\"The input parameters of getVarianceMean Function error\")\n",
    "        return -1\n",
    "    if winSize % 2 == 0:\n",
    "        print(\"The window size should be singular\")\n",
    "        return -1\n",
    "    copyBorder_map=cv2.copyMakeBorder(scr,winSize//2,winSize//2,winSize//2,winSize//2,cv2.BORDER_REPLICATE)\n",
    "    shape=np.shape(scr)\n",
    "    local_mean=np.zeros_like(scr)\n",
    "    local_std=np.zeros_like(scr)\n",
    "    for i in range(shape[0]):\n",
    "        for j in range(shape[1]):\n",
    "            temp=copyBorder_map[i:i+winSize,j:j+winSize]\n",
    "            local_mean[i,j],local_std[i,j]=cv2.meanStdDev(temp)\n",
    "            if local_std[i,j]<=0:\n",
    "                local_std[i,j]=1e-8\n",
    "    return local_mean,local_std"
   ]
  },
  {
   "cell_type": "code",
   "execution_count": 47,
   "metadata": {},
   "outputs": [],
   "source": [
    "def adaptContrastEnhancement(scr, winSize, maxCg):\n",
    "    if scr is None or winSize is None or maxCg is None:\n",
    "        print(\"The input parameters of ACE Function error\")\n",
    "        return -1\n",
    "    YUV_img=cv2.cvtColor(scr,cv2.COLOR_BGR2YUV) ## Switching channels \n",
    "    Y_Channel = YUV_img[:,:,0]\n",
    "    shape=np.shape(Y_Channel)\n",
    "    meansGlobal=cv2.mean(Y_Channel)[0]\n",
    "    ## It is available here boxfilter Methods for calculating local homogeneity and variance \n",
    "    # localMean_map=cv2.boxFilter(Y_Channel,-1,(winSize,winSize),normalize=True)\n",
    "    # localVar_map=cv2.boxFilter(np.multiply(Y_Channel,Y_Channel),-1,(winSize,winSize),normalize=True)-np.multiply(localMean_map,localMean_map)\n",
    "    # greater_Zero=localVar_map>0\n",
    "    # localVar_map=localVar_map*greater_Zero+1e-8\n",
    "    # localStd_map = np.sqrt(localVar_map)\n",
    "    localMean_map, localStd_map=getVarianceMean(Y_Channel,winSize)\n",
    "    for i in range(shape[0]):\n",
    "        for j in range(shape[1]):\n",
    "            cg = 0.2*meansGlobal/ localStd_map[i,j]\n",
    "            if cg >maxCg:\n",
    "                cg=maxCg\n",
    "            elif cg<1:\n",
    "                cg=1\n",
    "            temp = Y_Channel[i,j].astype(float)\n",
    "            temp=max(0,min(localMean_map[i,j]+cg*(temp-localMean_map[i,j]),255))\n",
    "    # Y_Channel[i,j]=max(0,min(localMean_map[i,j]+cg*(Y_Channel[i,j]-localMean_map[i,j]),255))\n",
    "            Y_Channel[i,j]=temp\n",
    "        YUV_img[:,:,0]=Y_Channel\n",
    "    dst=cv2.cvtColor(YUV_img,cv2.COLOR_YUV2BGR)\n",
    "\n",
    "    return dst\n",
    "\n"
   ]
  },
  {
   "cell_type": "code",
   "execution_count": 48,
   "metadata": {},
   "outputs": [],
   "source": [
    "def main():\n",
    "    img=cv2.imread(input_fn)\n",
    "\n",
    "    if img is None:\n",
    "        print(\"The file name error,please check it\")\n",
    "        return -1\n",
    "    print(np.shape(img))\n",
    "    dstimg=adaptContrastEnhancement(img,15,10)\n",
    "    cv2.imwrite('output.jpg',dstimg)\n",
    "    cv2.waitKey(0)\n",
    "    return 0    "
   ]
  },
  {
   "cell_type": "code",
   "execution_count": 50,
   "metadata": {},
   "outputs": [
    {
     "name": "stdout",
     "output_type": "stream",
     "text": [
      "(389, 301, 3)\n"
     ]
    }
   ],
   "source": [
    "input_fn='C:/Users/balaj/Desktop/Training/wrong_HOG_Mataji\\MatajiGaushala_Cow_Female_4141_NP.png'\n",
    "\n",
    "if __name__ == '__main__':\n",
    "    main()"
   ]
  },
  {
   "cell_type": "code",
   "execution_count": null,
   "metadata": {},
   "outputs": [],
   "source": []
  }
 ],
 "metadata": {
  "interpreter": {
   "hash": "9c522faa5fce6d8b5c33a7e71c77e6295dd637a691eb1b9a0bee8b810b882952"
  },
  "kernelspec": {
   "display_name": "Python 3.7.5 ('imgml')",
   "language": "python",
   "name": "python3"
  },
  "language_info": {
   "codemirror_mode": {
    "name": "ipython",
    "version": 3
   },
   "file_extension": ".py",
   "mimetype": "text/x-python",
   "name": "python",
   "nbconvert_exporter": "python",
   "pygments_lexer": "ipython3",
   "version": "3.7.5"
  },
  "orig_nbformat": 4
 },
 "nbformat": 4,
 "nbformat_minor": 2
}
