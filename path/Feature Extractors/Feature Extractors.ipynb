{
 "cells": [
  {
   "cell_type": "code",
   "execution_count": null,
   "metadata": {},
   "outputs": [],
   "source": [
    "#HOG\n",
    "from skimage import exposure\n",
    "from skimage import feature\n",
    "for imagePath in paths.list_images(\"img_processing\"):\n",
    "#convert to HOG \n",
    "    (H, hogImage) = feature.hog(gray, orientations=9, pixels_per_cell=(17, 17),cells_per_block=(2,2), transform_sqrt=True, block_norm=\"L1\", visualize=True) \n",
    "    hogImage = exposure.rescale_intensity(hogImage, out_range=(0, 255))\n",
    "    #cv2.imwrite(imagePath, hogImage)"
   ]
  },
  {
   "cell_type": "code",
   "execution_count": null,
   "metadata": {},
   "outputs": [],
   "source": [
    "# WLD weber_descriptor Feature Extractors \n",
    "import numpy as np\n",
    "from scipy.signal import convolve2d\n",
    "\n",
    "\n",
    "def weber(grayscale_image):\n",
    "    grayscale_image = grayscale_image.astype(np.float64)\n",
    "    grayscale_image[grayscale_image==0] = np.finfo(float).eps\n",
    "    neighbours_filter = np.array([\n",
    "        [1,1,1],\n",
    "        [1,0,1],\n",
    "        [1,1,1]\n",
    "    ])\n",
    "    convolved = convolve2d(grayscale_image,neighbours_filter, mode='same')\n",
    "    weber_descriptor = convolved-8*grayscale_image\n",
    "    weber_descriptor = weber_descriptor/grayscale_image\n",
    "    weber_descriptor = np.arctan(weber_descriptor)\n",
    "    return weber_descriptor"
   ]
  }
 ],
 "metadata": {
  "interpreter": {
   "hash": "9c522faa5fce6d8b5c33a7e71c77e6295dd637a691eb1b9a0bee8b810b882952"
  },
  "kernelspec": {
   "display_name": "Python 3.7.5 ('imgml')",
   "language": "python",
   "name": "python3"
  },
  "language_info": {
   "name": "python",
   "version": "3.7.5"
  },
  "orig_nbformat": 4
 },
 "nbformat": 4,
 "nbformat_minor": 2
}
