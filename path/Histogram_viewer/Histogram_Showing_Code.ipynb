{
 "cells": [
  {
   "cell_type": "code",
   "execution_count": null,
   "metadata": {},
   "outputs": [],
   "source": [
    "#individual Histogram\n",
    "import numpy as npp \n",
    "from skimage import io \n",
    "import matplotlib.pyplot as plt \n",
    "from imutils import paths\n",
    "import cv2\n",
    "for image in paths.list_images(\"img_processing\"):\n",
    "    \n",
    "    img = cv2.imread(image)\n",
    "\n",
    "\n",
    "    #histr = cv2.calcHist([image],[0],None,[256],[0,256])\n",
    "    #plt.plot(histr)\n",
    "    \n",
    "    print(image)\n",
    "    fig = plt.figure(figsize=(14, 6))\n",
    "    fig.add_subplot(1, 2, 1)\n",
    "    plt.imshow(img)\n",
    "    plt.title('Image')\n",
    "    fig.add_subplot(1, 2, 2)\n",
    "    plt.hist(img.ravel(),256,[0,256])  #Histogram type 1\n",
    "       \n",
    "    #plt.plot(cv2.calcHist([img],[0],None,[256],[0,256])) # Histogram type 2\n",
    "    #plt.hist(img.ravel(), bins=256, range=(0.0, 1.0), fc='k', ec='k') #Histogram Type 3\n",
    "\n",
    "    plt.title(\"Histogram\")\n",
    "    plt.show()\n",
    "    #Esc and Alt+Del to Clear Outputs\n",
    "\n"
   ]
  },
  {
   "cell_type": "code",
   "execution_count": 6,
   "metadata": {},
   "outputs": [],
   "source": [
    "#save the Histograms\n",
    "from pathlib import Path\n",
    "path = Path(\"...\\\\Images\")\n",
    "path2 = Path(\"...\\\\Processed Images\")\n",
    "path2.mkdir(exist_ok=True)\n",
    "\n",
    "for jpg_file in p.glob('**/*.jpg'):\n",
    "    full_file_path = str(jpg_file)\n",
    "    image_file = Image.open(full_file_path)\n",
    "    image_file = image_file.convert('L')\n",
    "    image_file = PIL.ImageOps.invert(image_file)\n",
    "    image_file = image_file.resize((28, 28))\n",
    "\n",
    "new_filename = jpg_file.stem + 'new.png'\n",
    "image_file.save(str(path2 / new_filename))"
   ]
  },
  {
   "cell_type": "code",
   "execution_count": 2,
   "metadata": {},
   "outputs": [
    {
     "data": {
      "image/png": "[encoded data removed]",
      "text/plain": [
       "<Figure size 432x288 with 1 Axes>"
      ]
     },
     "metadata": {
      "needs_background": "light"
     },
     "output_type": "display_data"
    }
   ],
   "source": [
    "#Collective Histogram \n",
    "\n",
    "import numpy as np\n",
    "from skimage import io\n",
    "import matplotlib.pyplot as plt\n",
    "import os\n",
    "import os.path\n",
    "\n",
    "\n",
    "nb_bins = 256\n",
    "count_r = np.zeros(nb_bins)\n",
    "count_g = np.zeros(nb_bins)\n",
    "count_b = np.zeros(nb_bins)\n",
    "\n",
    "root = \"C:/Users/balaj/Desktop/Training/Histograms/img_processing/Sukirti/\"\n",
    "#root='Training\\Histograms\\img_processing'\n",
    "\n",
    "for image in os.listdir(root):  \n",
    "  if image.endswith('.png'):\n",
    "    x = io.imread(root+image)\n",
    "    hist_r = np.histogram(x[0], bins=nb_bins, range=[0, 255])\n",
    "    hist_g = np.histogram(x[1], bins=nb_bins, range=[0, 255])\n",
    "    hist_b = np.histogram(x[2], bins=nb_bins, range=[0, 255])\n",
    "    count_r += hist_r[0]\n",
    "    count_g += hist_g[0]\n",
    "    count_b += hist_b[0]\n",
    "\n",
    "bins = hist_r[1]\n",
    "#fig = plt.figure()\n",
    "\n",
    "plt.bar(bins[:-1], count_r, color='r', alpha=0.33)\n",
    "plt.bar(bins[:-1], count_g, color='g', alpha=0.33)\n",
    "plt.bar(bins[:-1], count_b, color='b', alpha=0.33)\n",
    "plt.show()"
   ]
  }
 ],
 "metadata": {
  "interpreter": {
   "hash": "9c522faa5fce6d8b5c33a7e71c77e6295dd637a691eb1b9a0bee8b810b882952"
  },
  "kernelspec": {
   "display_name": "Python 3.7.5 ('imgml')",
   "language": "python",
   "name": "python3"
  },
  "language_info": {
   "codemirror_mode": {
    "name": "ipython",
    "version": 3
   },
   "file_extension": ".py",
   "mimetype": "text/x-python",
   "name": "python",
   "nbconvert_exporter": "python",
   "pygments_lexer": "ipython3",
   "version": "3.7.5"
  },
  "orig_nbformat": 4
 },
 "nbformat": 4,
 "nbformat_minor": 2
}
