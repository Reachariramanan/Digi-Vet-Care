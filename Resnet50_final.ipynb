{
  "cells": [
    {
      "cell_type": "code",
      "execution_count": 4,
      "metadata": {
        "id": "vWBm8HdF3b0t"
      },
      "outputs": [],
      "source": [
        "import matplotlib.pyplot as plt\n",
        "import matplotlib\n",
        "\n",
        "import numpy as np \n",
        "import os \n",
        "import PIL\n",
        "\n",
        "import tensorflow as tf \n",
        "from tensorflow import keras        \n",
        "from keras import layers \n",
        "from keras.models import Sequential\n",
        "\n",
        "from keras.preprocessing import image \n",
        "from keras.preprocessing.image import ImageDataGenerator\n",
        "from keras.optimizers import adam_v2\n",
        "\n",
        "import keras.applications\n",
        "from keras.layers import Dense, GlobalAveragePooling2D,Flatten\n",
        "from keras.models import Model"
      ]
    },
    {
      "cell_type": "code",
      "execution_count": 7,
      "metadata": {
        "id": "oiA10me3I0Ig"
      },
      "outputs": [],
      "source": [
        "#Data Aug using Image Data Generator \n",
        "\n",
        "train= ImageDataGenerator(  validation_split=0.2,\n",
        "                            shear_range = 0.2,\n",
        "                            rotation_range=10,\n",
        "                            brightness_range=[0.2,0.4],\n",
        "                            zoom_range=[0.0,0.1])\n",
        "\n",
        "validation = ImageDataGenerator(validation_split=0.2,\n",
        "                                shear_range = 0.2,\n",
        "                                rotation_range=10,\n",
        "                                brightness_range=[0.2,0.4],\n",
        "                                zoom_range=[0.0,0.1]\n",
        "                                )"
      ]
    },
    {
      "cell_type": "code",
      "execution_count": 6,
      "metadata": {
        "colab": {
          "base_uri": "https://localhost:8080/"
        },
        "id": "iWuZhLC-IQpB",
        "outputId": "c4693232-7a09-40bc-fe35-3a7f9891b229"
      },
      "outputs": [
        {
          "ename": "FileNotFoundError",
          "evalue": "[WinError 3] The system cannot find the path specified: 'CLAHE_applied'",
          "output_type": "error",
          "traceback": [
            "\u001b[1;31m---------------------------------------------------------------------------\u001b[0m",
            "\u001b[1;31mFileNotFoundError\u001b[0m                         Traceback (most recent call last)",
            "\u001b[1;32m~\\AppData\\Local\\Temp\\ipykernel_3332\\3852087161.py\u001b[0m in \u001b[0;36m<module>\u001b[1;34m\u001b[0m\n\u001b[0;32m      4\u001b[0m                                          \u001b[0mbatch_size\u001b[0m\u001b[1;33m=\u001b[0m\u001b[1;36m7\u001b[0m\u001b[1;33m,\u001b[0m\u001b[1;33m\u001b[0m\u001b[1;33m\u001b[0m\u001b[0m\n\u001b[0;32m      5\u001b[0m                                          \u001b[0msubset\u001b[0m\u001b[1;33m=\u001b[0m\u001b[1;34m\"training\"\u001b[0m\u001b[1;33m,\u001b[0m\u001b[1;33m\u001b[0m\u001b[1;33m\u001b[0m\u001b[0m\n\u001b[1;32m----> 6\u001b[1;33m                                          class_mode=\"categorical\")\n\u001b[0m\u001b[0;32m      7\u001b[0m \u001b[1;33m\u001b[0m\u001b[0m\n\u001b[0;32m      8\u001b[0m validation_dataset= validation.flow_from_directory(\"CLAHE_applied\",\n",
            "\u001b[1;32mc:\\Users\\balaj\\miniconda3\\envs\\imgml\\lib\\site-packages\\keras\\preprocessing\\image.py\u001b[0m in \u001b[0;36mflow_from_directory\u001b[1;34m(self, directory, target_size, color_mode, classes, class_mode, batch_size, shuffle, seed, save_to_dir, save_prefix, save_format, follow_links, subset, interpolation)\u001b[0m\n\u001b[0;32m    990\u001b[0m         \u001b[0mfollow_links\u001b[0m\u001b[1;33m=\u001b[0m\u001b[0mfollow_links\u001b[0m\u001b[1;33m,\u001b[0m\u001b[1;33m\u001b[0m\u001b[1;33m\u001b[0m\u001b[0m\n\u001b[0;32m    991\u001b[0m         \u001b[0msubset\u001b[0m\u001b[1;33m=\u001b[0m\u001b[0msubset\u001b[0m\u001b[1;33m,\u001b[0m\u001b[1;33m\u001b[0m\u001b[1;33m\u001b[0m\u001b[0m\n\u001b[1;32m--> 992\u001b[1;33m         interpolation=interpolation)\n\u001b[0m\u001b[0;32m    993\u001b[0m \u001b[1;33m\u001b[0m\u001b[0m\n\u001b[0;32m    994\u001b[0m   def flow_from_dataframe(self,\n",
            "\u001b[1;32mc:\\Users\\balaj\\miniconda3\\envs\\imgml\\lib\\site-packages\\keras\\preprocessing\\image.py\u001b[0m in \u001b[0;36m__init__\u001b[1;34m(self, directory, image_data_generator, target_size, color_mode, classes, class_mode, batch_size, shuffle, seed, data_format, save_to_dir, save_prefix, save_format, follow_links, subset, interpolation, dtype)\u001b[0m\n\u001b[0;32m    408\u001b[0m         \u001b[0msubset\u001b[0m\u001b[1;33m=\u001b[0m\u001b[0msubset\u001b[0m\u001b[1;33m,\u001b[0m\u001b[1;33m\u001b[0m\u001b[1;33m\u001b[0m\u001b[0m\n\u001b[0;32m    409\u001b[0m         \u001b[0minterpolation\u001b[0m\u001b[1;33m=\u001b[0m\u001b[0minterpolation\u001b[0m\u001b[1;33m,\u001b[0m\u001b[1;33m\u001b[0m\u001b[1;33m\u001b[0m\u001b[0m\n\u001b[1;32m--> 410\u001b[1;33m         **kwargs)\n\u001b[0m\u001b[0;32m    411\u001b[0m \u001b[1;33m\u001b[0m\u001b[0m\n\u001b[0;32m    412\u001b[0m \u001b[1;33m\u001b[0m\u001b[0m\n",
            "\u001b[1;32mc:\\Users\\balaj\\miniconda3\\envs\\imgml\\lib\\site-packages\\keras_preprocessing\\image\\directory_iterator.py\u001b[0m in \u001b[0;36m__init__\u001b[1;34m(self, directory, image_data_generator, target_size, color_mode, classes, class_mode, batch_size, shuffle, seed, data_format, save_to_dir, save_prefix, save_format, follow_links, subset, interpolation, dtype)\u001b[0m\n\u001b[0;32m    113\u001b[0m         \u001b[1;32mif\u001b[0m \u001b[1;32mnot\u001b[0m \u001b[0mclasses\u001b[0m\u001b[1;33m:\u001b[0m\u001b[1;33m\u001b[0m\u001b[1;33m\u001b[0m\u001b[0m\n\u001b[0;32m    114\u001b[0m             \u001b[0mclasses\u001b[0m \u001b[1;33m=\u001b[0m \u001b[1;33m[\u001b[0m\u001b[1;33m]\u001b[0m\u001b[1;33m\u001b[0m\u001b[1;33m\u001b[0m\u001b[0m\n\u001b[1;32m--> 115\u001b[1;33m             \u001b[1;32mfor\u001b[0m \u001b[0msubdir\u001b[0m \u001b[1;32min\u001b[0m \u001b[0msorted\u001b[0m\u001b[1;33m(\u001b[0m\u001b[0mos\u001b[0m\u001b[1;33m.\u001b[0m\u001b[0mlistdir\u001b[0m\u001b[1;33m(\u001b[0m\u001b[0mdirectory\u001b[0m\u001b[1;33m)\u001b[0m\u001b[1;33m)\u001b[0m\u001b[1;33m:\u001b[0m\u001b[1;33m\u001b[0m\u001b[1;33m\u001b[0m\u001b[0m\n\u001b[0m\u001b[0;32m    116\u001b[0m                 \u001b[1;32mif\u001b[0m \u001b[0mos\u001b[0m\u001b[1;33m.\u001b[0m\u001b[0mpath\u001b[0m\u001b[1;33m.\u001b[0m\u001b[0misdir\u001b[0m\u001b[1;33m(\u001b[0m\u001b[0mos\u001b[0m\u001b[1;33m.\u001b[0m\u001b[0mpath\u001b[0m\u001b[1;33m.\u001b[0m\u001b[0mjoin\u001b[0m\u001b[1;33m(\u001b[0m\u001b[0mdirectory\u001b[0m\u001b[1;33m,\u001b[0m \u001b[0msubdir\u001b[0m\u001b[1;33m)\u001b[0m\u001b[1;33m)\u001b[0m\u001b[1;33m:\u001b[0m\u001b[1;33m\u001b[0m\u001b[1;33m\u001b[0m\u001b[0m\n\u001b[0;32m    117\u001b[0m                     \u001b[0mclasses\u001b[0m\u001b[1;33m.\u001b[0m\u001b[0mappend\u001b[0m\u001b[1;33m(\u001b[0m\u001b[0msubdir\u001b[0m\u001b[1;33m)\u001b[0m\u001b[1;33m\u001b[0m\u001b[1;33m\u001b[0m\u001b[0m\n",
            "\u001b[1;31mFileNotFoundError\u001b[0m: [WinError 3] The system cannot find the path specified: 'CLAHE_applied'"
          ]
        }
      ],
      "source": [
        "#train and validation Data Preparation \n",
        "train_dataset= train.flow_from_directory('CLAHE_applied',\n",
        "                                         target_size=(450,300),  # need to spicify color at the end before(450,300)\n",
        "                                         batch_size=7,\n",
        "                                         subset=\"training\",\n",
        "                                         class_mode=\"categorical\")\n",
        "\n",
        "validation_dataset= validation.flow_from_directory(\"CLAHE_applied\",\n",
        "                                         target_size=(450,300),\n",
        "                                         subset=\"validation\",\n",
        "                                         batch_size=7,\n",
        "                                         class_mode=\"categorical\")"
      ]
    },
    {
      "cell_type": "code",
      "execution_count": 13,
      "metadata": {
        "colab": {
          "base_uri": "https://localhost:8080/"
        },
        "id": "_-WDHUYVKhoL",
        "outputId": "77de1453-7b04-49a1-b296-d4dbe0bc97a2"
      },
      "outputs": [
        {
          "name": "stdout",
          "output_type": "stream",
          "text": [
            "{'4194': 0, '4201': 1, '4203': 2, '4211': 3, '4218': 4, '4220': 5}\n"
          ]
        }
      ],
      "source": [
        "#list classes\n",
        "class_names=train_dataset.class_indices\n",
        "print(class_names)"
      ]
    },
    {
      "cell_type": "code",
      "execution_count": 18,
      "metadata": {
        "id": "0iDb5aDkMBnO"
      },
      "outputs": [],
      "source": [
        "resnet_model= tf.keras.Sequential()\n",
        "pretrained_model=tf.keras.applications.ResNet50(\n",
        "      include_top=False,\n",
        "      weights=\"imagenet\",\n",
        "      input_tensor=None,\n",
        "      input_shape=(450,300,3),\n",
        "      pooling=None,\n",
        "      classes=6\n",
        ")\n",
        "Model.save(pretrained_model,'Resnet_50.h5')\n",
        "\n",
        "# Every layer inside that pretrained module is not Trainable unless True \n",
        "# Enable to Unlearn or Improve Accuracy  \n",
        "for layer in pretrained_model.layers:\n",
        "     layer.trainable=False\n",
        "\n",
        "resnet_model.add(pretrained_model)\n",
        "# Flatten the whole Resnet-50 layer to Single layer\n",
        "\n",
        "resnet_model.add(Flatten())\n",
        "resnet_model.add(Dense(512,activation='relu'))\n",
        "resnet_model.add(Dense(6,activation='softmax')) "
      ]
    },
    {
      "cell_type": "code",
      "execution_count": 23,
      "metadata": {},
      "outputs": [
        {
          "ename": "TypeError",
          "evalue": "__init__() got an unexpected keyword argument 'ragged'",
          "output_type": "error",
          "traceback": [
            "\u001b[1;31m---------------------------------------------------------------------------\u001b[0m",
            "\u001b[1;31mTypeError\u001b[0m                                 Traceback (most recent call last)",
            "\u001b[1;32m~\\AppData\\Local\\Temp\\ipykernel_17240\\915652984.py\u001b[0m in \u001b[0;36m<module>\u001b[1;34m\u001b[0m\n\u001b[1;32m----> 1\u001b[1;33m \u001b[0mpretrained_model\u001b[0m\u001b[1;33m=\u001b[0m \u001b[0mkeras\u001b[0m\u001b[1;33m.\u001b[0m\u001b[0mmodels\u001b[0m\u001b[1;33m.\u001b[0m\u001b[0mload_model\u001b[0m\u001b[1;33m(\u001b[0m\u001b[1;34m'Resnet_50.h5'\u001b[0m\u001b[1;33m)\u001b[0m\u001b[1;33m\u001b[0m\u001b[1;33m\u001b[0m\u001b[0m\n\u001b[0m\u001b[0;32m      2\u001b[0m \u001b[0mresnet_model\u001b[0m\u001b[1;33m=\u001b[0m \u001b[0mtf\u001b[0m\u001b[1;33m.\u001b[0m\u001b[0mkeras\u001b[0m\u001b[1;33m.\u001b[0m\u001b[0mSequential\u001b[0m\u001b[1;33m(\u001b[0m\u001b[1;33m)\u001b[0m\u001b[1;33m\u001b[0m\u001b[1;33m\u001b[0m\u001b[0m\n\u001b[0;32m      3\u001b[0m \u001b[1;33m\u001b[0m\u001b[0m\n\u001b[0;32m      4\u001b[0m \u001b[1;32mfor\u001b[0m \u001b[0mlayer\u001b[0m \u001b[1;32min\u001b[0m \u001b[0mpretrained_model\u001b[0m\u001b[1;33m.\u001b[0m\u001b[0mlayers\u001b[0m\u001b[1;33m:\u001b[0m\u001b[1;33m\u001b[0m\u001b[1;33m\u001b[0m\u001b[0m\n\u001b[0;32m      5\u001b[0m      \u001b[0mlayer\u001b[0m\u001b[1;33m.\u001b[0m\u001b[0mtrainable\u001b[0m\u001b[1;33m=\u001b[0m\u001b[1;32mFalse\u001b[0m\u001b[1;33m\u001b[0m\u001b[1;33m\u001b[0m\u001b[0m\n",
            "\u001b[1;32m~\\miniconda3\\envs\\imgml\\lib\\site-packages\\keras\\engine\\saving.py\u001b[0m in \u001b[0;36mload_wrapper\u001b[1;34m(*args, **kwargs)\u001b[0m\n\u001b[0;32m    490\u001b[0m                 \u001b[0mos\u001b[0m\u001b[1;33m.\u001b[0m\u001b[0mremove\u001b[0m\u001b[1;33m(\u001b[0m\u001b[0mtmp_filepath\u001b[0m\u001b[1;33m)\u001b[0m\u001b[1;33m\u001b[0m\u001b[1;33m\u001b[0m\u001b[0m\n\u001b[0;32m    491\u001b[0m             \u001b[1;32mreturn\u001b[0m \u001b[0mres\u001b[0m\u001b[1;33m\u001b[0m\u001b[1;33m\u001b[0m\u001b[0m\n\u001b[1;32m--> 492\u001b[1;33m         \u001b[1;32mreturn\u001b[0m \u001b[0mload_function\u001b[0m\u001b[1;33m(\u001b[0m\u001b[1;33m*\u001b[0m\u001b[0margs\u001b[0m\u001b[1;33m,\u001b[0m \u001b[1;33m**\u001b[0m\u001b[0mkwargs\u001b[0m\u001b[1;33m)\u001b[0m\u001b[1;33m\u001b[0m\u001b[1;33m\u001b[0m\u001b[0m\n\u001b[0m\u001b[0;32m    493\u001b[0m \u001b[1;33m\u001b[0m\u001b[0m\n\u001b[0;32m    494\u001b[0m     \u001b[1;32mreturn\u001b[0m \u001b[0mload_wrapper\u001b[0m\u001b[1;33m\u001b[0m\u001b[1;33m\u001b[0m\u001b[0m\n",
            "\u001b[1;32m~\\miniconda3\\envs\\imgml\\lib\\site-packages\\keras\\engine\\saving.py\u001b[0m in \u001b[0;36mload_model\u001b[1;34m(filepath, custom_objects, compile)\u001b[0m\n\u001b[0;32m    582\u001b[0m     \u001b[1;32mif\u001b[0m \u001b[0mH5Dict\u001b[0m\u001b[1;33m.\u001b[0m\u001b[0mis_supported_type\u001b[0m\u001b[1;33m(\u001b[0m\u001b[0mfilepath\u001b[0m\u001b[1;33m)\u001b[0m\u001b[1;33m:\u001b[0m\u001b[1;33m\u001b[0m\u001b[1;33m\u001b[0m\u001b[0m\n\u001b[0;32m    583\u001b[0m         \u001b[1;32mwith\u001b[0m \u001b[0mH5Dict\u001b[0m\u001b[1;33m(\u001b[0m\u001b[0mfilepath\u001b[0m\u001b[1;33m,\u001b[0m \u001b[0mmode\u001b[0m\u001b[1;33m=\u001b[0m\u001b[1;34m'r'\u001b[0m\u001b[1;33m)\u001b[0m \u001b[1;32mas\u001b[0m \u001b[0mh5dict\u001b[0m\u001b[1;33m:\u001b[0m\u001b[1;33m\u001b[0m\u001b[1;33m\u001b[0m\u001b[0m\n\u001b[1;32m--> 584\u001b[1;33m             \u001b[0mmodel\u001b[0m \u001b[1;33m=\u001b[0m \u001b[0m_deserialize_model\u001b[0m\u001b[1;33m(\u001b[0m\u001b[0mh5dict\u001b[0m\u001b[1;33m,\u001b[0m \u001b[0mcustom_objects\u001b[0m\u001b[1;33m,\u001b[0m \u001b[0mcompile\u001b[0m\u001b[1;33m)\u001b[0m\u001b[1;33m\u001b[0m\u001b[1;33m\u001b[0m\u001b[0m\n\u001b[0m\u001b[0;32m    585\u001b[0m     \u001b[1;32melif\u001b[0m \u001b[0mhasattr\u001b[0m\u001b[1;33m(\u001b[0m\u001b[0mfilepath\u001b[0m\u001b[1;33m,\u001b[0m \u001b[1;34m'write'\u001b[0m\u001b[1;33m)\u001b[0m \u001b[1;32mand\u001b[0m \u001b[0mcallable\u001b[0m\u001b[1;33m(\u001b[0m\u001b[0mfilepath\u001b[0m\u001b[1;33m.\u001b[0m\u001b[0mwrite\u001b[0m\u001b[1;33m)\u001b[0m\u001b[1;33m:\u001b[0m\u001b[1;33m\u001b[0m\u001b[1;33m\u001b[0m\u001b[0m\n\u001b[0;32m    586\u001b[0m         \u001b[1;32mdef\u001b[0m \u001b[0mload_function\u001b[0m\u001b[1;33m(\u001b[0m\u001b[0mh5file\u001b[0m\u001b[1;33m)\u001b[0m\u001b[1;33m:\u001b[0m\u001b[1;33m\u001b[0m\u001b[1;33m\u001b[0m\u001b[0m\n",
            "\u001b[1;32m~\\miniconda3\\envs\\imgml\\lib\\site-packages\\keras\\engine\\saving.py\u001b[0m in \u001b[0;36m_deserialize_model\u001b[1;34m(h5dict, custom_objects, compile)\u001b[0m\n\u001b[0;32m    272\u001b[0m         \u001b[1;32mraise\u001b[0m \u001b[0mValueError\u001b[0m\u001b[1;33m(\u001b[0m\u001b[1;34m'No model found in config.'\u001b[0m\u001b[1;33m)\u001b[0m\u001b[1;33m\u001b[0m\u001b[1;33m\u001b[0m\u001b[0m\n\u001b[0;32m    273\u001b[0m     \u001b[0mmodel_config\u001b[0m \u001b[1;33m=\u001b[0m \u001b[0mjson\u001b[0m\u001b[1;33m.\u001b[0m\u001b[0mloads\u001b[0m\u001b[1;33m(\u001b[0m\u001b[0mmodel_config\u001b[0m\u001b[1;33m.\u001b[0m\u001b[0mdecode\u001b[0m\u001b[1;33m(\u001b[0m\u001b[1;34m'utf-8'\u001b[0m\u001b[1;33m)\u001b[0m\u001b[1;33m)\u001b[0m\u001b[1;33m\u001b[0m\u001b[1;33m\u001b[0m\u001b[0m\n\u001b[1;32m--> 274\u001b[1;33m     \u001b[0mmodel\u001b[0m \u001b[1;33m=\u001b[0m \u001b[0mmodel_from_config\u001b[0m\u001b[1;33m(\u001b[0m\u001b[0mmodel_config\u001b[0m\u001b[1;33m,\u001b[0m \u001b[0mcustom_objects\u001b[0m\u001b[1;33m=\u001b[0m\u001b[0mcustom_objects\u001b[0m\u001b[1;33m)\u001b[0m\u001b[1;33m\u001b[0m\u001b[1;33m\u001b[0m\u001b[0m\n\u001b[0m\u001b[0;32m    275\u001b[0m     \u001b[0mmodel_weights_group\u001b[0m \u001b[1;33m=\u001b[0m \u001b[0mh5dict\u001b[0m\u001b[1;33m[\u001b[0m\u001b[1;34m'model_weights'\u001b[0m\u001b[1;33m]\u001b[0m\u001b[1;33m\u001b[0m\u001b[1;33m\u001b[0m\u001b[0m\n\u001b[0;32m    276\u001b[0m \u001b[1;33m\u001b[0m\u001b[0m\n",
            "\u001b[1;32m~\\miniconda3\\envs\\imgml\\lib\\site-packages\\keras\\engine\\saving.py\u001b[0m in \u001b[0;36mmodel_from_config\u001b[1;34m(config, custom_objects)\u001b[0m\n\u001b[0;32m    625\u001b[0m                         '`Sequential.from_config(config)`?')\n\u001b[0;32m    626\u001b[0m     \u001b[1;32mfrom\u001b[0m \u001b[1;33m.\u001b[0m\u001b[1;33m.\u001b[0m\u001b[0mlayers\u001b[0m \u001b[1;32mimport\u001b[0m \u001b[0mdeserialize\u001b[0m\u001b[1;33m\u001b[0m\u001b[1;33m\u001b[0m\u001b[0m\n\u001b[1;32m--> 627\u001b[1;33m     \u001b[1;32mreturn\u001b[0m \u001b[0mdeserialize\u001b[0m\u001b[1;33m(\u001b[0m\u001b[0mconfig\u001b[0m\u001b[1;33m,\u001b[0m \u001b[0mcustom_objects\u001b[0m\u001b[1;33m=\u001b[0m\u001b[0mcustom_objects\u001b[0m\u001b[1;33m)\u001b[0m\u001b[1;33m\u001b[0m\u001b[1;33m\u001b[0m\u001b[0m\n\u001b[0m\u001b[0;32m    628\u001b[0m \u001b[1;33m\u001b[0m\u001b[0m\n\u001b[0;32m    629\u001b[0m \u001b[1;33m\u001b[0m\u001b[0m\n",
            "\u001b[1;32m~\\miniconda3\\envs\\imgml\\lib\\site-packages\\keras\\layers\\__init__.py\u001b[0m in \u001b[0;36mdeserialize\u001b[1;34m(config, custom_objects)\u001b[0m\n\u001b[0;32m    166\u001b[0m                                     \u001b[0mmodule_objects\u001b[0m\u001b[1;33m=\u001b[0m\u001b[0mglobs\u001b[0m\u001b[1;33m,\u001b[0m\u001b[1;33m\u001b[0m\u001b[1;33m\u001b[0m\u001b[0m\n\u001b[0;32m    167\u001b[0m                                     \u001b[0mcustom_objects\u001b[0m\u001b[1;33m=\u001b[0m\u001b[0mcustom_objects\u001b[0m\u001b[1;33m,\u001b[0m\u001b[1;33m\u001b[0m\u001b[1;33m\u001b[0m\u001b[0m\n\u001b[1;32m--> 168\u001b[1;33m                                     printable_module_name='layer')\n\u001b[0m",
            "\u001b[1;32m~\\miniconda3\\envs\\imgml\\lib\\site-packages\\keras\\utils\\generic_utils.py\u001b[0m in \u001b[0;36mdeserialize_keras_object\u001b[1;34m(identifier, module_objects, custom_objects, printable_module_name)\u001b[0m\n\u001b[0;32m    145\u001b[0m                     \u001b[0mconfig\u001b[0m\u001b[1;33m[\u001b[0m\u001b[1;34m'config'\u001b[0m\u001b[1;33m]\u001b[0m\u001b[1;33m,\u001b[0m\u001b[1;33m\u001b[0m\u001b[1;33m\u001b[0m\u001b[0m\n\u001b[0;32m    146\u001b[0m                     custom_objects=dict(list(_GLOBAL_CUSTOM_OBJECTS.items()) +\n\u001b[1;32m--> 147\u001b[1;33m                                         list(custom_objects.items())))\n\u001b[0m\u001b[0;32m    148\u001b[0m             \u001b[1;32mwith\u001b[0m \u001b[0mCustomObjectScope\u001b[0m\u001b[1;33m(\u001b[0m\u001b[0mcustom_objects\u001b[0m\u001b[1;33m)\u001b[0m\u001b[1;33m:\u001b[0m\u001b[1;33m\u001b[0m\u001b[1;33m\u001b[0m\u001b[0m\n\u001b[0;32m    149\u001b[0m                 \u001b[1;32mreturn\u001b[0m \u001b[0mcls\u001b[0m\u001b[1;33m.\u001b[0m\u001b[0mfrom_config\u001b[0m\u001b[1;33m(\u001b[0m\u001b[0mconfig\u001b[0m\u001b[1;33m[\u001b[0m\u001b[1;34m'config'\u001b[0m\u001b[1;33m]\u001b[0m\u001b[1;33m)\u001b[0m\u001b[1;33m\u001b[0m\u001b[1;33m\u001b[0m\u001b[0m\n",
            "\u001b[1;32m~\\miniconda3\\envs\\imgml\\lib\\site-packages\\keras\\engine\\network.py\u001b[0m in \u001b[0;36mfrom_config\u001b[1;34m(cls, config, custom_objects)\u001b[0m\n\u001b[0;32m   1054\u001b[0m         \u001b[1;31m# First, we create all layers and enqueue nodes to be processed\u001b[0m\u001b[1;33m\u001b[0m\u001b[1;33m\u001b[0m\u001b[1;33m\u001b[0m\u001b[0m\n\u001b[0;32m   1055\u001b[0m         \u001b[1;32mfor\u001b[0m \u001b[0mlayer_data\u001b[0m \u001b[1;32min\u001b[0m \u001b[0mconfig\u001b[0m\u001b[1;33m[\u001b[0m\u001b[1;34m'layers'\u001b[0m\u001b[1;33m]\u001b[0m\u001b[1;33m:\u001b[0m\u001b[1;33m\u001b[0m\u001b[1;33m\u001b[0m\u001b[0m\n\u001b[1;32m-> 1056\u001b[1;33m             \u001b[0mprocess_layer\u001b[0m\u001b[1;33m(\u001b[0m\u001b[0mlayer_data\u001b[0m\u001b[1;33m)\u001b[0m\u001b[1;33m\u001b[0m\u001b[1;33m\u001b[0m\u001b[0m\n\u001b[0m\u001b[0;32m   1057\u001b[0m \u001b[1;33m\u001b[0m\u001b[0m\n\u001b[0;32m   1058\u001b[0m         \u001b[1;31m# Then we process nodes in order of layer depth.\u001b[0m\u001b[1;33m\u001b[0m\u001b[1;33m\u001b[0m\u001b[1;33m\u001b[0m\u001b[0m\n",
            "\u001b[1;32m~\\miniconda3\\envs\\imgml\\lib\\site-packages\\keras\\engine\\network.py\u001b[0m in \u001b[0;36mprocess_layer\u001b[1;34m(layer_data)\u001b[0m\n\u001b[0;32m   1040\u001b[0m \u001b[1;33m\u001b[0m\u001b[0m\n\u001b[0;32m   1041\u001b[0m             layer = deserialize_layer(layer_data,\n\u001b[1;32m-> 1042\u001b[1;33m                                       custom_objects=custom_objects)\n\u001b[0m\u001b[0;32m   1043\u001b[0m             \u001b[0mcreated_layers\u001b[0m\u001b[1;33m[\u001b[0m\u001b[0mlayer_name\u001b[0m\u001b[1;33m]\u001b[0m \u001b[1;33m=\u001b[0m \u001b[0mlayer\u001b[0m\u001b[1;33m\u001b[0m\u001b[1;33m\u001b[0m\u001b[0m\n\u001b[0;32m   1044\u001b[0m \u001b[1;33m\u001b[0m\u001b[0m\n",
            "\u001b[1;32m~\\miniconda3\\envs\\imgml\\lib\\site-packages\\keras\\layers\\__init__.py\u001b[0m in \u001b[0;36mdeserialize\u001b[1;34m(config, custom_objects)\u001b[0m\n\u001b[0;32m    166\u001b[0m                                     \u001b[0mmodule_objects\u001b[0m\u001b[1;33m=\u001b[0m\u001b[0mglobs\u001b[0m\u001b[1;33m,\u001b[0m\u001b[1;33m\u001b[0m\u001b[1;33m\u001b[0m\u001b[0m\n\u001b[0;32m    167\u001b[0m                                     \u001b[0mcustom_objects\u001b[0m\u001b[1;33m=\u001b[0m\u001b[0mcustom_objects\u001b[0m\u001b[1;33m,\u001b[0m\u001b[1;33m\u001b[0m\u001b[1;33m\u001b[0m\u001b[0m\n\u001b[1;32m--> 168\u001b[1;33m                                     printable_module_name='layer')\n\u001b[0m",
            "\u001b[1;32m~\\miniconda3\\envs\\imgml\\lib\\site-packages\\keras\\utils\\generic_utils.py\u001b[0m in \u001b[0;36mdeserialize_keras_object\u001b[1;34m(identifier, module_objects, custom_objects, printable_module_name)\u001b[0m\n\u001b[0;32m    147\u001b[0m                                         list(custom_objects.items())))\n\u001b[0;32m    148\u001b[0m             \u001b[1;32mwith\u001b[0m \u001b[0mCustomObjectScope\u001b[0m\u001b[1;33m(\u001b[0m\u001b[0mcustom_objects\u001b[0m\u001b[1;33m)\u001b[0m\u001b[1;33m:\u001b[0m\u001b[1;33m\u001b[0m\u001b[1;33m\u001b[0m\u001b[0m\n\u001b[1;32m--> 149\u001b[1;33m                 \u001b[1;32mreturn\u001b[0m \u001b[0mcls\u001b[0m\u001b[1;33m.\u001b[0m\u001b[0mfrom_config\u001b[0m\u001b[1;33m(\u001b[0m\u001b[0mconfig\u001b[0m\u001b[1;33m[\u001b[0m\u001b[1;34m'config'\u001b[0m\u001b[1;33m]\u001b[0m\u001b[1;33m)\u001b[0m\u001b[1;33m\u001b[0m\u001b[1;33m\u001b[0m\u001b[0m\n\u001b[0m\u001b[0;32m    150\u001b[0m         \u001b[1;32melse\u001b[0m\u001b[1;33m:\u001b[0m\u001b[1;33m\u001b[0m\u001b[1;33m\u001b[0m\u001b[0m\n\u001b[0;32m    151\u001b[0m             \u001b[1;31m# Then `cls` may be a function returning a class.\u001b[0m\u001b[1;33m\u001b[0m\u001b[1;33m\u001b[0m\u001b[1;33m\u001b[0m\u001b[0m\n",
            "\u001b[1;32m~\\miniconda3\\envs\\imgml\\lib\\site-packages\\keras\\engine\\base_layer.py\u001b[0m in \u001b[0;36mfrom_config\u001b[1;34m(cls, config)\u001b[0m\n\u001b[0;32m   1177\u001b[0m             \u001b[0mA\u001b[0m \u001b[0mlayer\u001b[0m \u001b[0minstance\u001b[0m\u001b[1;33m.\u001b[0m\u001b[1;33m\u001b[0m\u001b[1;33m\u001b[0m\u001b[0m\n\u001b[0;32m   1178\u001b[0m         \"\"\"\n\u001b[1;32m-> 1179\u001b[1;33m         \u001b[1;32mreturn\u001b[0m \u001b[0mcls\u001b[0m\u001b[1;33m(\u001b[0m\u001b[1;33m**\u001b[0m\u001b[0mconfig\u001b[0m\u001b[1;33m)\u001b[0m\u001b[1;33m\u001b[0m\u001b[1;33m\u001b[0m\u001b[0m\n\u001b[0m\u001b[0;32m   1180\u001b[0m \u001b[1;33m\u001b[0m\u001b[0m\n\u001b[0;32m   1181\u001b[0m     \u001b[1;32mdef\u001b[0m \u001b[0mcount_params\u001b[0m\u001b[1;33m(\u001b[0m\u001b[0mself\u001b[0m\u001b[1;33m)\u001b[0m\u001b[1;33m:\u001b[0m\u001b[1;33m\u001b[0m\u001b[1;33m\u001b[0m\u001b[0m\n",
            "\u001b[1;32m~\\miniconda3\\envs\\imgml\\lib\\site-packages\\keras\\legacy\\interfaces.py\u001b[0m in \u001b[0;36mwrapper\u001b[1;34m(*args, **kwargs)\u001b[0m\n\u001b[0;32m     89\u001b[0m                 warnings.warn('Update your `' + object_name + '` call to the ' +\n\u001b[0;32m     90\u001b[0m                               'Keras 2 API: ' + signature, stacklevel=2)\n\u001b[1;32m---> 91\u001b[1;33m             \u001b[1;32mreturn\u001b[0m \u001b[0mfunc\u001b[0m\u001b[1;33m(\u001b[0m\u001b[1;33m*\u001b[0m\u001b[0margs\u001b[0m\u001b[1;33m,\u001b[0m \u001b[1;33m**\u001b[0m\u001b[0mkwargs\u001b[0m\u001b[1;33m)\u001b[0m\u001b[1;33m\u001b[0m\u001b[1;33m\u001b[0m\u001b[0m\n\u001b[0m\u001b[0;32m     92\u001b[0m         \u001b[0mwrapper\u001b[0m\u001b[1;33m.\u001b[0m\u001b[0m_original_function\u001b[0m \u001b[1;33m=\u001b[0m \u001b[0mfunc\u001b[0m\u001b[1;33m\u001b[0m\u001b[1;33m\u001b[0m\u001b[0m\n\u001b[0;32m     93\u001b[0m         \u001b[1;32mreturn\u001b[0m \u001b[0mwrapper\u001b[0m\u001b[1;33m\u001b[0m\u001b[1;33m\u001b[0m\u001b[0m\n",
            "\u001b[1;31mTypeError\u001b[0m: __init__() got an unexpected keyword argument 'ragged'"
          ]
        }
      ],
      "source": [
        "pretrained_model= keras.models.load_model('Resnet_50.h5')\n",
        "resnet_model= tf.keras.Sequential()\n",
        "\n",
        "for layer in pretrained_model.layers:\n",
        "     layer.trainable=False\n",
        "\n",
        "resnet_model.add(pretrained_model)\n",
        "# Flatten the whole Resnet-50 layer to Single layer\n",
        "\n",
        "resnet_model.add(Flatten())\n",
        "resnet_model.add(Dense(512,activation='relu'))\n",
        "resnet_model.add(Dense(6,activation='softmax')) "
      ]
    },
    {
      "cell_type": "code",
      "execution_count": 18,
      "metadata": {
        "colab": {
          "base_uri": "https://localhost:8080/"
        },
        "id": "YChg5sP_U5pV",
        "outputId": "1b3d905c-06ce-4f6d-d53b-41936130b33b"
      },
      "outputs": [
        {
          "name": "stdout",
          "output_type": "stream",
          "text": [
            "Model: \"sequential\"\n",
            "_________________________________________________________________\n",
            "Layer (type)                 Output Shape              Param #   \n",
            "=================================================================\n",
            "resnet50 (Model)             (None, 15, 10, 2048)      23587712  \n",
            "=================================================================\n",
            "Total params: 23,587,712\n",
            "Trainable params: 0\n",
            "Non-trainable params: 23,587,712\n",
            "_________________________________________________________________\n"
          ]
        }
      ],
      "source": [
        "resnet_model.summary()"
      ]
    },
    {
      "cell_type": "code",
      "execution_count": 6,
      "metadata": {
        "colab": {
          "base_uri": "https://localhost:8080/"
        },
        "id": "Vx4TwGFmVbiM",
        "outputId": "3dd3534f-3648-4e2a-e24a-6b9296d88a32"
      },
      "outputs": [
        {
          "data": {
            "text/plain": [
              "<tensorflow.python.keras.optimizer_v2.adam.Adam at 0x1f7deb0d988>"
            ]
          },
          "execution_count": 6,
          "metadata": {},
          "output_type": "execute_result"
        }
      ],
      "source": [
        "#optimizer Tuning\n",
        "tf.keras.optimizers.Adam(\n",
        "    learning_rate=0.001,\n",
        "    beta_1=0.9,\n",
        "    beta_2=0.998,\n",
        "    epsilon=1e-07,\n",
        "    amsgrad=False,\n",
        "    name=\"Adam\",\n",
        ")"
      ]
    },
    {
      "cell_type": "code",
      "execution_count": 7,
      "metadata": {
        "id": "SEe8GKrrWH0T"
      },
      "outputs": [],
      "source": [
        "resnet_model.compile(\n",
        "    optimizer=tf.keras.optimizers.Adam(),\n",
        "    loss='sparse_categorical_crossentropy',\n",
        "    metrics=[tf.keras.metrics.SparseCategoricalAccuracy()])"
      ]
    },
    {
      "cell_type": "code",
      "execution_count": 28,
      "metadata": {
        "colab": {
          "base_uri": "https://localhost:8080/"
        },
        "id": "Z717UaJnX1cm",
        "outputId": "d279f0bc-db55-4a3d-f4f6-8611181c0e9d"
      },
      "outputs": [
        {
          "name": "stdout",
          "output_type": "stream",
          "text": [
            "Epoch 1/35\n",
            "9/9 [==============================] - 40s 3s/step - loss: 212.8111 - sparse_categorical_accuracy: 0.2833 - val_loss: 89.4506 - val_sparse_categorical_accuracy: 0.3667\n",
            "Epoch 2/35\n",
            "9/9 [==============================] - 5s 566ms/step - loss: 83.2185 - sparse_categorical_accuracy: 0.2167 - val_loss: 63.2267 - val_sparse_categorical_accuracy: 0.3667\n",
            "Epoch 3/35\n",
            "9/9 [==============================] - 5s 564ms/step - loss: 56.2754 - sparse_categorical_accuracy: 0.4000 - val_loss: 61.7602 - val_sparse_categorical_accuracy: 0.3667\n",
            "Epoch 4/35\n",
            "9/9 [==============================] - 5s 572ms/step - loss: 44.9726 - sparse_categorical_accuracy: 0.4333 - val_loss: 32.9553 - val_sparse_categorical_accuracy: 0.5333\n",
            "Epoch 5/35\n",
            "9/9 [==============================] - 5s 560ms/step - loss: 15.2194 - sparse_categorical_accuracy: 0.5167 - val_loss: 18.9740 - val_sparse_categorical_accuracy: 0.4667\n",
            "Epoch 6/35\n",
            "9/9 [==============================] - 5s 571ms/step - loss: 16.3858 - sparse_categorical_accuracy: 0.5500 - val_loss: 17.7178 - val_sparse_categorical_accuracy: 0.5000\n",
            "Epoch 7/35\n",
            "9/9 [==============================] - 5s 571ms/step - loss: 13.4024 - sparse_categorical_accuracy: 0.6333 - val_loss: 12.2364 - val_sparse_categorical_accuracy: 0.6333\n",
            "Epoch 8/35\n",
            "9/9 [==============================] - 5s 599ms/step - loss: 13.7709 - sparse_categorical_accuracy: 0.6167 - val_loss: 15.5401 - val_sparse_categorical_accuracy: 0.4667\n",
            "Epoch 9/35\n",
            "9/9 [==============================] - 5s 570ms/step - loss: 12.8598 - sparse_categorical_accuracy: 0.6167 - val_loss: 14.0087 - val_sparse_categorical_accuracy: 0.5667\n",
            "Epoch 10/35\n",
            "9/9 [==============================] - 5s 567ms/step - loss: 7.9060 - sparse_categorical_accuracy: 0.6167 - val_loss: 12.0796 - val_sparse_categorical_accuracy: 0.5667\n",
            "Epoch 11/35\n",
            "9/9 [==============================] - 5s 583ms/step - loss: 12.8324 - sparse_categorical_accuracy: 0.6167 - val_loss: 11.5939 - val_sparse_categorical_accuracy: 0.6333\n",
            "Epoch 12/35\n",
            "9/9 [==============================] - 5s 566ms/step - loss: 11.8730 - sparse_categorical_accuracy: 0.6500 - val_loss: 11.1628 - val_sparse_categorical_accuracy: 0.6000\n",
            "Epoch 13/35\n",
            "9/9 [==============================] - 5s 563ms/step - loss: 10.9872 - sparse_categorical_accuracy: 0.5167 - val_loss: 25.0743 - val_sparse_categorical_accuracy: 0.4333\n",
            "Epoch 14/35\n",
            "9/9 [==============================] - 5s 570ms/step - loss: 10.7021 - sparse_categorical_accuracy: 0.7000 - val_loss: 11.5849 - val_sparse_categorical_accuracy: 0.5667\n",
            "Epoch 15/35\n",
            "9/9 [==============================] - 5s 560ms/step - loss: 9.2532 - sparse_categorical_accuracy: 0.6667 - val_loss: 6.2213 - val_sparse_categorical_accuracy: 0.6667\n",
            "Epoch 16/35\n",
            "9/9 [==============================] - 5s 559ms/step - loss: 6.5663 - sparse_categorical_accuracy: 0.6833 - val_loss: 14.9764 - val_sparse_categorical_accuracy: 0.7000\n",
            "Epoch 17/35\n",
            "9/9 [==============================] - 5s 557ms/step - loss: 11.9247 - sparse_categorical_accuracy: 0.6333 - val_loss: 10.7931 - val_sparse_categorical_accuracy: 0.7000\n",
            "Epoch 18/35\n",
            "9/9 [==============================] - 5s 561ms/step - loss: 5.1932 - sparse_categorical_accuracy: 0.7667 - val_loss: 7.7895 - val_sparse_categorical_accuracy: 0.6667\n",
            "Epoch 19/35\n",
            "9/9 [==============================] - 5s 560ms/step - loss: 7.0263 - sparse_categorical_accuracy: 0.7000 - val_loss: 7.5488 - val_sparse_categorical_accuracy: 0.6333\n",
            "Epoch 20/35\n",
            "9/9 [==============================] - 5s 562ms/step - loss: 4.1411 - sparse_categorical_accuracy: 0.7667 - val_loss: 8.2325 - val_sparse_categorical_accuracy: 0.6000\n",
            "Epoch 21/35\n",
            "9/9 [==============================] - 5s 560ms/step - loss: 13.6203 - sparse_categorical_accuracy: 0.6500 - val_loss: 8.1976 - val_sparse_categorical_accuracy: 0.7667\n",
            "Epoch 22/35\n",
            "9/9 [==============================] - 5s 569ms/step - loss: 5.6842 - sparse_categorical_accuracy: 0.7333 - val_loss: 4.5059 - val_sparse_categorical_accuracy: 0.7667\n",
            "Epoch 23/35\n",
            "9/9 [==============================] - 5s 579ms/step - loss: 3.5274 - sparse_categorical_accuracy: 0.7667 - val_loss: 5.3649 - val_sparse_categorical_accuracy: 0.8000\n",
            "Epoch 24/35\n",
            "9/9 [==============================] - 5s 585ms/step - loss: 3.8454 - sparse_categorical_accuracy: 0.7500 - val_loss: 6.9133 - val_sparse_categorical_accuracy: 0.6000\n",
            "Epoch 25/35\n",
            "9/9 [==============================] - 5s 594ms/step - loss: 5.7740 - sparse_categorical_accuracy: 0.6833 - val_loss: 9.4895 - val_sparse_categorical_accuracy: 0.7000\n",
            "Epoch 26/35\n",
            "9/9 [==============================] - 5s 577ms/step - loss: 3.0361 - sparse_categorical_accuracy: 0.7833 - val_loss: 10.3705 - val_sparse_categorical_accuracy: 0.6667\n",
            "Epoch 27/35\n",
            "9/9 [==============================] - 5s 579ms/step - loss: 11.0791 - sparse_categorical_accuracy: 0.6167 - val_loss: 22.3672 - val_sparse_categorical_accuracy: 0.5000\n",
            "Epoch 28/35\n",
            "9/9 [==============================] - 5s 577ms/step - loss: 5.7255 - sparse_categorical_accuracy: 0.7167 - val_loss: 7.7218 - val_sparse_categorical_accuracy: 0.8000\n",
            "Epoch 29/35\n",
            "9/9 [==============================] - 5s 587ms/step - loss: 5.2754 - sparse_categorical_accuracy: 0.7500 - val_loss: 12.2080 - val_sparse_categorical_accuracy: 0.5667\n",
            "Epoch 30/35\n",
            "9/9 [==============================] - 5s 575ms/step - loss: 6.2051 - sparse_categorical_accuracy: 0.7333 - val_loss: 3.5159 - val_sparse_categorical_accuracy: 0.7667\n",
            "Epoch 31/35\n",
            "9/9 [==============================] - 5s 566ms/step - loss: 2.8976 - sparse_categorical_accuracy: 0.7667 - val_loss: 4.2549 - val_sparse_categorical_accuracy: 0.8667\n",
            "Epoch 32/35\n",
            "9/9 [==============================] - 5s 564ms/step - loss: 5.1519 - sparse_categorical_accuracy: 0.7000 - val_loss: 8.7303 - val_sparse_categorical_accuracy: 0.6000\n",
            "Epoch 33/35\n",
            "9/9 [==============================] - 5s 571ms/step - loss: 3.7487 - sparse_categorical_accuracy: 0.7333 - val_loss: 7.7896 - val_sparse_categorical_accuracy: 0.6000\n",
            "Epoch 34/35\n",
            "9/9 [==============================] - 5s 561ms/step - loss: 5.4775 - sparse_categorical_accuracy: 0.6667 - val_loss: 10.3148 - val_sparse_categorical_accuracy: 0.6000\n",
            "Epoch 35/35\n",
            "9/9 [==============================] - 5s 560ms/step - loss: 4.3315 - sparse_categorical_accuracy: 0.7667 - val_loss: 5.0179 - val_sparse_categorical_accuracy: 0.7000\n"
          ]
        }
      ],
      "source": [
        "R50_model= resnet_model.fit(train_dataset,\n",
        "                            #steps_per_epoch=10,\n",
        "                            epochs=35, \n",
        "                            validation_data= validation_dataset)"
      ]
    },
    {
      "cell_type": "code",
      "execution_count": 36,
      "metadata": {
        "colab": {
          "base_uri": "https://localhost:8080/"
        },
        "id": "muX3OQzis7BM",
        "outputId": "17e9c35d-c86a-4c56-f177-415115970581"
      },
      "outputs": [
        {
          "name": "stderr",
          "output_type": "stream",
          "text": [
            "/usr/local/lib/python3.7/dist-packages/keras/engine/functional.py:1410: CustomMaskWarning: Custom mask layers require a config and must override get_config. When loading, the custom mask layer must be passed to the custom_objects argument.\n",
            "  layer_config = serialize_layer_fn(layer)\n"
          ]
        }
      ],
      "source": [
        "resnet_model.save('Res50weights.h5')"
      ]
    },
    {
      "cell_type": "code",
      "execution_count": 102,
      "metadata": {
        "colab": {
          "base_uri": "https://localhost:8080/"
        },
        "id": "5tKdcvHBIVNh",
        "outputId": "fbc826fd-93fc-41b4-8bea-adcc5cd7bf5a"
      },
      "outputs": [
        {
          "name": "stdout",
          "output_type": "stream",
          "text": [
            "{'4194': 0, '4201': 1, '4203': 2, '4211': 3, '4218': 4, '4220': 5}\n"
          ]
        }
      ],
      "source": [
        "#list classes\n",
        "class_names=train_dataset.class_indices\n",
        "print(class_names)"
      ]
    },
    {
      "cell_type": "code",
      "execution_count": 30,
      "metadata": {
        "colab": {
          "base_uri": "https://localhost:8080/",
          "height": 299
        },
        "id": "22WwIBL13ljR",
        "outputId": "ee665f53-bd5b-49da-cdcd-15f2aef1f960"
      },
      "outputs": [
        {
          "data": {
            "image/png": "[encoded data removed]",
            "text/plain": [
              "<Figure size 432x288 with 1 Axes>"
            ]
          },
          "metadata": {},
          "output_type": "display_data"
        }
      ],
      "source": [
        "fig1 = plt.gcf()\n",
        "plt.plot(R50_model.history['sparse_categorical_accuracy'])\n",
        "plt.axis(ymin=.4,ymax=1)\n",
        "plt.grid()\n",
        "plt.title('Model Accuracy')\n",
        "plt.ylabel('Accuracy')\n",
        "plt.xlabel('Epochs')\n",
        "plt.legend(['train','validation'])\n",
        "plt.show()"
      ]
    },
    {
      "cell_type": "code",
      "execution_count": 37,
      "metadata": {
        "colab": {
          "base_uri": "https://localhost:8080/",
          "height": 299
        },
        "id": "VfvozBBJ84V7",
        "outputId": "92b25d11-e879-43d4-d1c0-01c59ed5fa1e"
      },
      "outputs": [
        {
          "data": {
            "image/png": "[encoded data removed]",
            "text/plain": [
              "<Figure size 432x288 with 1 Axes>"
            ]
          },
          "metadata": {},
          "output_type": "display_data"
        }
      ],
      "source": [
        "plt.plot(R50_model.history['loss'])\n",
        "plt.plot(R50_model.history['val_loss'])\n",
        "plt.grid()\n",
        "plt.title('Model Loss')\n",
        "plt.ylabel('Loss')\n",
        "plt.xlabel('Epochs')\n",
        "plt.legend(['train','validation'])\n",
        "plt.show()"
      ]
    },
    {
      "cell_type": "code",
      "execution_count": 50,
      "metadata": {
        "colab": {
          "base_uri": "https://localhost:8080/"
        },
        "id": "PfDOLaZM1Ylq",
        "outputId": "eaf28607-e5ca-4018-a668-c58d9ee60f15"
      },
      "outputs": [
        {
          "name": "stdout",
          "output_type": "stream",
          "text": [
            "{'4194': 0, '4201': 1, '4203': 2, '4211': 3, '4218': 4, '4220': 5} \n",
            "\n",
            "MatajiGaushala_Cow_Male_4194.png\n",
            "MatajiGaushala_Cow_Female_11_4220.png\n",
            "MatajiGaushala_Cow_Male_10_4218.png\n",
            "MatajiGaushala_Cow_Male_4_4201.png\n",
            "\n",
            " Prediction Array \n",
            " [3, 1, 1, 3]\n"
          ]
        }
      ],
      "source": [
        "#Testing Path \n",
        "Results=[]\n",
        "npval=[]\n",
        "dir_path='/content/drive/MyDrive/dataset/CNN_dataset/test'\n",
        "print(class_names,\"\\n\") \n",
        "\n",
        "for i in os.listdir(dir_path):\n",
        "  img= image.load_img(dir_path+'//'+i,target_size=(450,300))\n",
        "  print(i)\n",
        "  x= image.img_to_array(img)\n",
        "  x=np.expand_dims(x,axis=0)\n",
        "  #imgs=np.vstack([x])\n",
        "\n",
        "  val= resnet_model.predict(x)\n",
        "  npval.append(np.argmax(val))\n",
        "  #op=class_names[npval]\n",
        "print(\"\\n Prediction Array \\n\",npval)  \n",
        "  #output_class=class_names[np.argmax(val)]\n",
        "  #print(\"The predicted class is\", output_class)"
      ]
    },
    {
      "cell_type": "code",
      "execution_count": null,
      "metadata": {
        "id": "m1hFc2cqKgBg"
      },
      "outputs": [],
      "source": []
    }
  ],
  "metadata": {
    "accelerator": "GPU",
    "colab": {
      "collapsed_sections": [],
      "name": "Resnet50_final",
      "provenance": []
    },
    "kernelspec": {
      "display_name": "Python 3.7.5 ('imgml')",
      "language": "python",
      "name": "python3"
    },
    "language_info": {
      "codemirror_mode": {
        "name": "ipython",
        "version": 3
      },
      "file_extension": ".py",
      "mimetype": "text/x-python",
      "name": "python",
      "nbconvert_exporter": "python",
      "pygments_lexer": "ipython3",
      "version": "3.7.5"
    },
    "vscode": {
      "interpreter": {
        "hash": "4fb41f14ca53ced99c32f82dae339aae605da345a76a47848aab62026a0818e1"
      }
    }
  },
  "nbformat": 4,
  "nbformat_minor": 0
}
