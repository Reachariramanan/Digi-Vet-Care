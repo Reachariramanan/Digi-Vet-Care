{
 "cells": [
  {
   "cell_type": "markdown",
   "metadata": {},
   "source": [
    "#HOG + PCA + NN + SVM v2"
   ]
  },
  {
   "cell_type": "code",
   "execution_count": 1,
   "metadata": {},
   "outputs": [
    {
     "name": "stdout",
     "output_type": "stream",
     "text": [
      "GPU Availability :  True\n"
     ]
    }
   ],
   "source": [
    "import tensorflow as tf\n",
    "DEVICES=tf.config.experimental.list_physical_devices()\n",
    "print('GPU Availability : ',tf.test.is_gpu_available())\n",
    "tf.config.experimental.set_memory_growth(device=DEVICES[1],enable=True)"
   ]
  },
  {
   "cell_type": "code",
   "execution_count": 2,
   "metadata": {},
   "outputs": [],
   "source": [
    "import os\n",
    "import cv2\n",
    "import glob\n",
    "#import h5py\n",
    "import numpy as np \n",
    "import seaborn as sns\n",
    "#from pathlib import Path\n",
    "#from imutils import paths\n",
    "import matplotlib.pyplot as plt\n",
    "%matplotlib inline\n",
    "\n",
    "from sklearn import metrics\n",
    "from skimage.feature import hog\n",
    "from sklearn.decomposition import PCA , IncrementalPCA\n",
    "#from sklearn.model_selection import GridSearchCV, train_test_split\n",
    "from skimage import color, io, exposure, feature, util ,img_as_ubyte, transform\n",
    "\n",
    "from tensorflow.keras import layers\n",
    "from tensorflow.keras.models import Model, Sequential\n",
    "from tensorflow.keras.optimizers import RMSprop,Adam,SGD\n",
    "#from tensorflow.keras.metrics import categorical_crossentropy\n",
    "from tensorflow.keras.layers import Activation, Dense, Flatten, Input, InputLayer, Dropout "
   ]
  },
  {
   "cell_type": "code",
   "execution_count": 11,
   "metadata": {},
   "outputs": [],
   "source": [
    "def HOG(imagePath):\n",
    "    H=[]\n",
    "    image = cv2.imread(imagePath)\n",
    "    image = cv2.bitwise_not(image)\n",
    "    gray = cv2.cvtColor(image, cv2.COLOR_BGR2GRAY)\n",
    "    clahe = cv2.createCLAHE(clipLimit=2.3, tileGridSize=(8,8))\n",
    "    image = clahe.apply(gray)\n",
    "    img = cv2.resize(image, (160, 180)) \n",
    "    (H, hogImage) = hog(img, orientations=1, \n",
    "                        pixels_per_cell=(5,5), cells_per_block=(2,2), transform_sqrt=True, block_norm=\"L1\", visualize=False) \n",
    "    #Data Normalisation (Normalising HOG Features)\n",
    "    H*=10\n",
    "    return H"
   ]
  },
  {
   "cell_type": "code",
   "execution_count": 12,
   "metadata": {},
   "outputs": [],
   "source": [
    "basedir='./HOG_NN/mataji/Female/v2/'\n",
    "basemodel=basedir+'model.h5'"
   ]
  },
  {
   "cell_type": "code",
   "execution_count": 13,
   "metadata": {},
   "outputs": [
    {
     "name": "stdout",
     "output_type": "stream",
     "text": [
      "3382\n"
     ]
    },
    {
     "ename": "ValueError",
     "evalue": "too many values to unpack (expected 2)",
     "output_type": "error",
     "traceback": [
      "\u001b[1;31m---------------------------------------------------------------------------\u001b[0m",
      "\u001b[1;31mValueError\u001b[0m                                Traceback (most recent call last)",
      "\u001b[1;32m~\\AppData\\Local\\Temp\\ipykernel_5624\\2220706049.py\u001b[0m in \u001b[0;36m<module>\u001b[1;34m\u001b[0m\n\u001b[0;32m      8\u001b[0m     \u001b[1;32mfor\u001b[0m \u001b[0mimg_path\u001b[0m \u001b[1;32min\u001b[0m \u001b[0mglob\u001b[0m\u001b[1;33m.\u001b[0m\u001b[0mglob\u001b[0m\u001b[1;33m(\u001b[0m\u001b[0mos\u001b[0m\u001b[1;33m.\u001b[0m\u001b[0mpath\u001b[0m\u001b[1;33m.\u001b[0m\u001b[0mjoin\u001b[0m\u001b[1;33m(\u001b[0m\u001b[0mdirectory_path\u001b[0m\u001b[1;33m,\u001b[0m\u001b[1;34m\"*.png\"\u001b[0m\u001b[1;33m)\u001b[0m\u001b[1;33m)\u001b[0m\u001b[1;33m:\u001b[0m\u001b[1;33m\u001b[0m\u001b[1;33m\u001b[0m\u001b[0m\n\u001b[0;32m      9\u001b[0m         \u001b[1;31m#print(img_path)\u001b[0m\u001b[1;33m\u001b[0m\u001b[1;33m\u001b[0m\u001b[1;33m\u001b[0m\u001b[0m\n\u001b[1;32m---> 10\u001b[1;33m         \u001b[0mA\u001b[0m \u001b[1;33m=\u001b[0m \u001b[0mHOG\u001b[0m\u001b[1;33m(\u001b[0m\u001b[0mimg_path\u001b[0m\u001b[1;33m)\u001b[0m\u001b[1;33m\u001b[0m\u001b[1;33m\u001b[0m\u001b[0m\n\u001b[0m\u001b[0;32m     11\u001b[0m         \u001b[0mdata\u001b[0m\u001b[1;33m.\u001b[0m\u001b[0mappend\u001b[0m\u001b[1;33m(\u001b[0m\u001b[0mA\u001b[0m\u001b[1;33m)\u001b[0m\u001b[1;33m\u001b[0m\u001b[1;33m\u001b[0m\u001b[0m\n\u001b[0;32m     12\u001b[0m         \u001b[0mlabels\u001b[0m\u001b[1;33m.\u001b[0m\u001b[0mappend\u001b[0m\u001b[1;33m(\u001b[0m\u001b[0mlabel\u001b[0m\u001b[1;33m)\u001b[0m\u001b[1;33m\u001b[0m\u001b[1;33m\u001b[0m\u001b[0m\n",
      "\u001b[1;32m~\\AppData\\Local\\Temp\\ipykernel_5624\\3274708271.py\u001b[0m in \u001b[0;36mHOG\u001b[1;34m(imagePath)\u001b[0m\n\u001b[0;32m      8\u001b[0m     \u001b[0mimg\u001b[0m \u001b[1;33m=\u001b[0m \u001b[0mcv2\u001b[0m\u001b[1;33m.\u001b[0m\u001b[0mresize\u001b[0m\u001b[1;33m(\u001b[0m\u001b[0mimage\u001b[0m\u001b[1;33m,\u001b[0m \u001b[1;33m(\u001b[0m\u001b[1;36m160\u001b[0m\u001b[1;33m,\u001b[0m \u001b[1;36m180\u001b[0m\u001b[1;33m)\u001b[0m\u001b[1;33m)\u001b[0m\u001b[1;33m\u001b[0m\u001b[1;33m\u001b[0m\u001b[0m\n\u001b[0;32m      9\u001b[0m     (H, hogImage) = hog(img, orientations=1, \n\u001b[1;32m---> 10\u001b[1;33m                         pixels_per_cell=(5,5), cells_per_block=(2,2), transform_sqrt=True, block_norm=\"L1\", visualize=False) \n\u001b[0m\u001b[0;32m     11\u001b[0m     \u001b[1;31m#Data Normalisation (Normalising HOG Features)\u001b[0m\u001b[1;33m\u001b[0m\u001b[1;33m\u001b[0m\u001b[1;33m\u001b[0m\u001b[0m\n\u001b[0;32m     12\u001b[0m     \u001b[0mH\u001b[0m\u001b[1;33m*=\u001b[0m\u001b[1;36m10\u001b[0m\u001b[1;33m\u001b[0m\u001b[1;33m\u001b[0m\u001b[0m\n",
      "\u001b[1;31mValueError\u001b[0m: too many values to unpack (expected 2)"
     ]
    }
   ],
   "source": [
    "#%%script false\n",
    "data = []\n",
    "labels = []\n",
    "traindir='./path/Dataset/ghoshaala/MatajiGaushala'#Enter the Train Directory\n",
    "for directory_path in glob.glob(traindir+\"/*\"):\n",
    "    label = directory_path.split(\"\\\\\")[-1]\n",
    "    print(label)\n",
    "    for img_path in glob.glob(os.path.join(directory_path,\"*.png\")):\n",
    "        #print(img_path)\n",
    "        A = HOG(img_path)\n",
    "        data.append(A)\n",
    "        labels.append(label)\n",
    "np.save(basedir+'data.npy',data)\n",
    "np.save(basedir+'labels.npy',labels)"
   ]
  },
  {
   "cell_type": "code",
   "execution_count": 6,
   "metadata": {},
   "outputs": [
    {
     "name": "stdout",
     "output_type": "stream",
     "text": [
      "2187\n"
     ]
    }
   ],
   "source": [
    "data=np.load(basedir+'data.npy')\n",
    "labels=np.load(basedir+'labels.npy')\n",
    "from sklearn import preprocessing\n",
    "from tensorflow.keras.utils import to_categorical\n",
    "le = preprocessing.LabelEncoder()\n",
    "le.fit(labels)\n",
    "toh= le.transform(labels)\n",
    "OHE_labels=to_categorical(toh)\n",
    "n_classes=OHE_labels.shape[1]\n",
    "print(n_classes)"
   ]
  },
  {
   "cell_type": "code",
   "execution_count": 12,
   "metadata": {},
   "outputs": [
    {
     "name": "stdout",
     "output_type": "stream",
     "text": [
      "(32804, 9408)\n",
      "(32804,)\n",
      "32804\n",
      "(32804, 2187)\n"
     ]
    }
   ],
   "source": [
    "print(data.shape)\n",
    "print(labels.shape)\n",
    "print(len(OHE_labels))\n",
    "print(OHE_labels.shape)"
   ]
  },
  {
   "cell_type": "code",
   "execution_count": 29,
   "metadata": {},
   "outputs": [
    {
     "name": "stdout",
     "output_type": "stream",
     "text": [
      "(14795, 7056) \n",
      " (1644, 7056) \n",
      " (14795, 1096) \n",
      " (1644, 1096) \n",
      "\n"
     ]
    }
   ],
   "source": [
    "(trainX, testX, trainY, testY) = train_test_split(data, OHE_labels,\n",
    "                                                  train_size=0.90,\n",
    "                                                  random_state=12)\n",
    "print(\n",
    "      trainX.shape,'\\n',\n",
    "      testX.shape,'\\n',\n",
    "      trainY.shape,'\\n',\n",
    "      testY.shape,'\\n'\n",
    "      )"
   ]
  },
  {
   "cell_type": "code",
   "execution_count": 86,
   "metadata": {},
   "outputs": [
    {
     "name": "stdout",
     "output_type": "stream",
     "text": [
      "3382 3383 3384 3386 3389 3390 3391 3392 3393 3394 3396 3397 3399 3402 3403 3404 3407 3408 3409 3410 3411 3412 3413 3414 3415 3416 3417 3418 3419 3420 3421 3423 3424 3425 3426 3428 3429 3431 3432 3433 3434 3435 3436 3437 3438 3439 3441 3442 3443 3444 3445 3447 3449 3450 3451 3452 3454 3455 3456 3458 3460 3461 3462 3463 3464 3465 3468 3470 3471 3472 3473 3474 3475 3476 3477 3478 3479 3480 3481 3482 3483 3485 3487 3489 3490 3491 3493 3498 3499 3501 3502 3505 3508 3511 3513 3514 3515 3516 3519 3521 3522 3523 3528 3529 3530 3531 3532 3533 3534 3535 3536 3537 3538 3539 3540 3541 3542 3543 3544 3546 3549 3550 3551 3552 3553 3556 3557 3558 3559 3560 3561 3563 3565 3566 3567 3568 3569 3570 3571 3572 3573 3574 3575 3577 3578 3579 3582 3587 3588 3591 3593 3594 3595 3597 3598 3599 3600 3606 3610 3611 3612 3613 3614 3615 3616 3617 3619 3622 3623 3624 3625 3626 3627 3628 3629 3630 3631 3632 3633 3636 3637 3638 3639 3640 3641 3643 3644 3645 3646 3647 3648 3651 3652 3656 3657 3658 3659 3660 3661 3662 3665 3667 3669 3671 3674 3675 3676 3677 3678 3679 3681 3682 3683 3684 3685 3687 3688 3690 3691 3692 3693 3694 3695 3696 3697 3698 3700 3701 3702 3705 3706 3707 3709 3710 3711 3712 3715 3717 3718 3719 3720 3722 3723 3726 3727 3728 3729 3731 3732 3733 3734 3735 3736 3738 3741 3742 3743 3745 3747 3748 3752 3753 3755 3756 3757 3758 3759 3760 3761 3762 3763 3764 3765 3766 3767 3769 3771 3772 3773 3774 3775 3776 3777 3778 3779 3780 3782 3783 3784 3785 3786 3787 3789 3790 3791 3793 3794 3795 3798 3799 3800 3802 3803 3805 3808 3809 3811 3814 3815 3840 3846 3847 3849 3850 3851 3852 3853 3858 3869 3875 3876 3878 3879 3880 3882 3883 3884 3885 3886 3887 3888 3889 3890 3891 3892 3893 3895 3898 3899 3908 3909 3910 3911 3913 3916 3917 3918 3919 3920 3923 3935 3936 3937 3938 3939 3940 3941 3942 3943 3944 3945 3946 3947 3948 3949 3950 3953 3954 3956 3957 3959 3961 3963 3964 3965 3966 3973 3974 3975 3978 3979 3981 3982 3983 3984 3985 3986 3987 3989 4000 4002 4003 4004 4005 4006 4008 4010 4012 4014 4018 4019 4020 4023 4024 4025 4026 4027 4029 4030 4032 4033 4034 4035 4036 4037 4038 4039 4040 4041 4043 4044 4046 4047 4048 4050 4051 4052 4053 4054 4056 4057 4060 4064 4065 4066 4068 4071 4072 4073 4074 4075 4078 4079 4080 4082 4083 4084 4087 4088 4089 4091 4094 4095 4096 4099 4100 4101 4102 4103 4104 4105 4106 4108 4110 4111 4114 4116 4117 4118 4119 4120 4122 4123 4126 4128 4129 4130 4133 4134 4135 4136 4137 4138 4139 4140 4141 4143 4145 4146 4147 4148 4149 4151 4152 4153 4155 4156 4157 4158 4159 4160 4161 4162 4164 4165 4166 4167 4168 4169 4170 4171 4172 4173 4176 4177 4178 4179 4180 4181 4182 4183 4187 4188 4189 4190 4191 4195 4196 4197 4198 4199 4200 4202 4204 4205 4206 4207 4208 4209 4210 4212 4213 4214 4215 4216 4217 4219 4220 4221 4222 4223 4224 4227 4228 4229 4230 4231 4233 4234 4235 4236 4237 4239 4240 4241 4242 4243 4244 4245 4246 4248 4249 4250 4251 4252 4253 4254 4255 4256 4257 4258 4259 4260 4261 4263 4264 4265 4267 4268 4271 4272 4273 4274 4275 4277 4278 4279 4280 4281 4282 4283 4284 4285 4287 4288 4289 4290 4291 4292 4293 4294 4295 4298 4299 4300 4305 4306 4307 4310 4311 4312 4313 4315 4317 4318 4319 4320 4321 4322 4323 4325 4326 4327 4328 4330 4331 4332 4333 4334 4335 4336 4338 4339 4340 4341 4343 4345 4346 4347 4348 4349 4350 4352 4354 4355 4357 4358 4359 4361 4362 4363 4364 4365 4367 4368 4369 4372 4373 4374 4375 4376 4377 4378 4380 4381 4382 4383 4384 4385 4386 4387 4388 4389 4390 4391 4392 4393 4394 4395 4396 4397 4398 4401 4402 4403 4404 4405 4407 4410 4412 4413 4414 4415 4416 4417 4420 4421 4424 4426 4427 4428 4429 4430 4431 4432 4433 4434 4437 4438 4439 4440 4441 4442 4445 4448 4450 4452 4454 4457 4459 4462 4463 4465 4467 4468 4469 4470 4471 4472 4474 4476 4477 4478 4479 4483 4485 4487 4488 4489 4490 4492 4494 4495 4497 4500 4502 4504 4506 4507 4508 4509 4510 4512 4514 4515 4516 4517 4519 4520 4521 4522 4523 4524 4528 4529 4530 4531 4533 4536 4537 4538 4539 4540 4541 4544 4545 4546 4547 4549 4550 4551 4553 4554 4555 4556 4557 4558 4559 4560 4561 4562 4564 4565 4566 4567 4568 4569 4571 4573 4574 4580 4581 4583 4584 4585 4586 4588 4589 4590 4591 4592 4593 4596 4597 4598 4599 4601 4602 4603 4604 4605 4606 4607 4609 4610 4614 4615 4616 4617 4618 4619 4621 4622 4623 4625 4626 4627 4628 4632 4633 4634 4636 4637 4638 4639 4640 4641 4642 4643 4644 4646 4647 4648 4649 4650 4651 4652 4654 4655 4656 4657 4658 4659 4662 4663 4664 4665 4666 4667 4668 4669 4670 4672 4673 4674 4678 4679 4680 4681 4682 4683 4684 4685 4687 4688 4689 4690 4691 4692 4693 4695 4696 4697 4698 4699 4701 4702 4703 4704 4705 4706 4707 4709 4711 4713 4715 4716 4717 4720 4721 4722 4724 4725 4727 4728 4729 4730 4732 4733 4734 4736 4737 4738 4739 4740 4741 4743 4744 4745 4746 4747 4748 4749 4750 4752 4753 4754 4755 4756 4757 4758 4759 4760 4762 4763 4765 4766 4767 4768 4769 4770 4771 4772 4774 4775 4776 4777 4778 4779 4780 4782 4783 4784 4786 4787 4789 4790 4791 4793 4795 4796 4798 4800 4801 4802 4803 4804 4805 4806 4807 4808 4809 4810 4811 4812 4813 4814 4816 4817 4818 4819 4820 4822 4824 4827 4829 4830 4831 4832 4834 4835 4837 4839 4840 4842 4843 4845 4846 4847 4848 4849 4850 4851 4853 4854 4855 4856 4857 4858 4859 4861 4862 4865 4866 4867 4868 4871 4872 4873 4874 4875 4876 4877 4880 4881 4882 4883 4884 4885 4886 4887 4890 4891 4892 4893 4894 4895 4896 4897 4898 4900 4901 4902 4903 4905 4906 4907 4908 4909 4910 4911 4912 4913 4916 4919 4921 4922 4923 4924 4925 4927 4928 4929 4930 4934 4935 4936 4937 4938 4939 4940 4942 4943 4944 4945 4946 4947 4949 4950 4951 4952 4953 4954 4955 4956 4957 4958 4959 4960 4961 4963 4964 4965 4966 4967 4968 4969 4970 4971 4972 4973 4974 4975 4976 4977 4978 4980 4981 4982 4984 4986 4987 4988 4989 4990 4991 4992 4993 4995 4997 4998 4999 5001 5003 5004 5005 5006 5007 5008 5009 5010 5011 5012 5013 5014 5015 5016 5020 5025 5027 5029 5038 5039 5041 5042 5043 5044 5045 5046 5047 5049 5050 5052 5054 5055 5068 5069 5070 5071 5072 5073 5074 5075 5076 5077 5078 5079 5081 5083 5085 5099 5100 5101 5103 5104 5105 5106 5107 5109 5110 5112 5113 5114 5115 5116 5119 5135 5136 5137 5138 5139 5141 5142 5145 5147 5148 5149 5150 5153 5154 5169 5173 5174 5175 5176 5177 5178 5179 5180 5182 5184 5186 5188 5190 5203 5204 5205 5206 5207 5208 5210 5211 5214 5215 5218 5221 5224 5228 5229 5240 5241 5246 5247 5248 5249 5250 5253 5255 5256 5257 5260 5261 5263 5264 5265 5276 5277 5278 5279 5280 5281 5282 5283 5284 5285 5286 5287 5291 5294 5297 5299 5300 5302 5321 5322 5323 5324 5325 5326 5327 5328 5329 5330 5331 5332 5333 5334 5336 5337 5339 5340 5341 5342 5343 5344 5345 5346 5347 5349 5350 5351 5352 5353 5354 5355 5356 5357 5358 5366 5370 5371 5373 5374 5375 5380 5381 5382 5383 5384 5385 5386 5388 5389 5391 5392 5393 5394 5395 5397 5398 5399 5401 5402 5403 5404 5405 5406 5407 5408 5409 5410 5411 5412 5413 5414 5415 5416 5418 5420 5421 5422 5423 5424 5425 5426 5428 5430 5431 5432 5433 5434 5435 5436 5437 5438 5439 5440 5443 5445 5448 5452 5455 5458 5459 5460 5461 5462 5464 5465 5466 5467 5468 5470 5471 5472 5473 5474 5475 5476 5477 5478 5479 5481 5482 5483 5484 5485 5486 5489 5490 5491 5492 5494 5495 5496 5498 5499 5500 5502 5503 5504 5505 5507 5508 5511 5512 5513 5514 5515 5516 5517 5518 5519 5520 5521 5522 5524 5527 5528 5529 5530 5532 5533 5534 5535 5539 5540 5541 5543 5545 5546 5547 5548 5549 5550 5552 5553 5555 5556 5557 5558 5559 5562 5573 5574 5575 5576 5577 5580 5581 5582 5583 5584 5585 5586 5587 5588 5589 5590 5591 5592 5595 5596 5599 5600 5601 5602 5603 5604 5607 5609 5614 5615 5616 5617 5618 5622 5623 5625 5626 5627 5628 5629 5630 5632 5633 5634 5637 5638 5641 5642 5644 5645 5646 5648 5649 5651 5652 5653 5654 5655 5656 5657 5658 5659 5661 5663 5664 5666 5667 5668 5669 5670 5672 5673 5675 5677 5678 5679 5681 5682 5683 5684 5686 5687 5688 5690 5692 5695 5696 5697 5698 5699 5700 5701 5703 5704 5705 5706 5707 5708 5709 5710 5712 5713 5714 5715 5716 5717 5718 5719 5720 5721 5724 5725 5726 5727 5729 5730 5731 5732 5733 5734 5735 5736 5737 5739 5740 5743 5744 5745 5746 5748 5751 5753 5754 5755 5756 5757 5758 5759 5760 5761 5763 5764 5767 5768 5769 5770 5771 5772 5773 5774 5775 5776 5777 5778 5780 5781 5784 5785 5787 5789 5790 5791 5792 5793 5795 5800 5801 5803 5804 5807 5808 5809 5810 5811 5813 5814 5815 5816 5817 5819 5820 5821 5822 5823 5824 5825 5826 5827 5828 5831 5832 5833 5834 5835 5836 5839 5840 5841 5842 5843 5844 5845 5847 5848 5850 5851 5852 5923 5926 5929 5930 5931 5932 5933 5934 5935 5937 5938 5939 5940 5941 5942 5943 5944 5945 5946 5947 5948 5949 5950 5951 5954 5956 5957 5958 5959 5960 5961 5966 5967 5969 5970 5971 5972 5973 5974 5975 5976 5978 5979 5980 5981 5982 5984 5988 5989 5990 5991 5992 5993 5994 5995 5996 5999 6000 6004 6005 6006 6007 6008 6010 6011 6012 6013 6014 6015 6016 6018 6020 6022 6023 6024 6025 6026 6028 6029 6030 6031 6032 6035 6036 6037 6038 6040 6042 6044 6046 6047 6049 6050 6051 6052 6054 6056 6057 6058 6059 6061 6062 6063 6065 6066 6068 6070 6071 6073 6074 6075 6076 6077 6079 6081 6082 6084 6085 6086 6087 6088 6089 6090 6091 6092 6094 6095 6096 6098 6099 6100 6101 6102 6104 6105 6106 6108 6109 6110 6114 6115 6116 6117 6118 6122 6123 6124 6125 6127 6128 6129 6130 6131 6132 6134 6135 6141 6142 6143 6144 6146 6147 6150 6151 6152 6155 6156 6157 6158 6159 6160 6163 6167 6169 6174 6175 6176 6183 6185 6187 6189 6190 6192 6195 6197 6198 6199 6201 6202 6203 6204 6205 6206 6207 6208 6209 6210 6211 6212 6213 6215 6216 6219 6220 6221 6222 6224 6225 6226 6228 6229 6232 6233 6234 6236 6238 6240 6241 6242 6243 6244 6247 6249 6250 6251 6253 6254 6274 6275 6276 6277 6278 6280 6281 6310 6311 6312 6313 6315 6316 6317 6318 6319 6320 6321 6322 6341 6342 6343 6344 6368 6369 6370 6371 6372 6373 6374 6375 6376 6377 6378 6380 6382 6383 6396 6397 6399 6400 6419 6420 6421 6422 6423 6451 6474 6477 6478 6479 6480 6481 6482 6504 6505 6506 6507 6508 6509 6510 6511 6564 6565 6567 6569 6570 6571 6573 6574 6575 6576 6577 6579 6580 6581 6583 6584 6585 6602 6603 6604 6605 6606 6607 6609 6610 6612 6625 6626 6628 6629 6630 6631 6632 6633 6634 6639 6641 6644 6658 6659 6664 6665 6669 6671 6672 6674 6675 6676 6679 6681 6682 6684 6686 6688 6689 6691 6692 6693 6694 6695 6696 6698 6702 6706 6708 6709 6710 6711 6712 6714 6715 6716 6717 6719 6721 6722 6723 6725 6727 6728 6729 6730 6732 6734 6735 6736 6737 6738 6739 6740 6741 6742 6743 6748 6749 6750 6751 6752 6755 6757 6758 6759 6760 6761 6762 6763 6768 6769 6770 6771 6772 6773 6775 6776 6778 6779 6780 6782 6783 6784 6785 6786 6787 6788 6796 6797 6798 6799 6808 6810 6811 6812 6815 6816 6831 6832 6833 6835 6836 6839 6841 6845 6850 6853 6871 6872 6873 6874 6875 6880 6881 6882 6883 6924 6926 6927 6929 6930 6931 6932 6935 6936 6938 6940 6944 6955 6956 6985 6986 6987 6988 6991 6993 7000 7001 7004 7008 7009 7011 7013 7028 7029 7030 7031 7032 7044 7049 7052 7055 7057 7059 7063 7066 7069 7070 7082 7084 7085 7086 7167 7168 7172 7173 7175 7176 7177 7178 7179 7185 7189 7199 7200 7201 7202 7203 7204 7205 7206 7207 7208 7209 7210 7211 7212 7213 7214 7215 7216\n"
     ]
    }
   ],
   "source": [
    "from collections import Counter\n",
    "print(*Counter(labels))"
   ]
  },
  {
   "cell_type": "code",
   "execution_count": null,
   "metadata": {},
   "outputs": [],
   "source": [
    "from sklearn.decomposition import PCA\n",
    "# First verfiy the ideal number of PCA components to not lose much information. \n",
    "# Try to retain 90% information, so look where the curve starts to flatten.\n",
    "# Remember that the n_components must be lower than the number of rows or columns (features)\n",
    "pca_test = PCA(n_components=3000) \n",
    "pca_test.fit(data)\n",
    "#pca_test.fit(data)\n",
    "plt.plot(np.cumsum(pca_test.explained_variance_ratio_))\n",
    "plt.xlabel(\"Number of components\")\n",
    "plt.ylabel(\"Cum variance\")"
   ]
  },
  {
   "cell_type": "code",
   "execution_count": 7,
   "metadata": {},
   "outputs": [],
   "source": [
    "#Pick the optimal number of components. This is how many features we will have \n",
    "#for our machine learning\n",
    "n_PCA_components = 333\n",
    "pca = PCA(n_components=n_PCA_components)\n",
    "train_PCA = pca.fit_transform(data)\n",
    "#test_PCA = pca.transform(testX) #Make sure you are just transforming, not fitting.\n",
    "\n",
    "#If we want 90% information captured we can also try ...\n",
    "#pca=PCA(0.9)\n",
    "#train_PCA = pca.fit_transform(data)\n",
    "#n_PCA_components = len(train_PCA)\n",
    "#print(principalComponents.shape)\n",
    "#test_PCA = pca.transform(data)\n",
    "\n",
    "#import pickle as pk\n",
    "#pk.dump(pca, open(basedir+\"pca_data.pkl\",\"wb\"))"
   ]
  },
  {
   "cell_type": "code",
   "execution_count": null,
   "metadata": {},
   "outputs": [],
   "source": [
    "'''n_PCA_components = 1008\n",
    "pca = IncrementalPCA(n_components=n_PCA_components,batch_size=1008)\n",
    "train_PCA = pca.fit_transform(data)\n",
    "test_PCA = pca.transform(data)'''"
   ]
  },
  {
   "cell_type": "code",
   "execution_count": null,
   "metadata": {},
   "outputs": [],
   "source": [
    "model = Sequential()\n",
    "model.add(InputLayer(input_shape=(n_PCA_components,)))\n",
    "model.add(Dense(108,kernel_initializer='he_uniform',activation='sigmoid'))\n",
    "model.add(Dense(1008,kernel_initializer='he_uniform',activation='sigmoid'))\n",
    "model.add(Dropout(0.2)) \n",
    "\n",
    "#model.add(Dense(1008,activation='sigmoid'))\n",
    "#model.add(Dense(1008,kernel_initializer='he_uniform',activation='relu'))\n",
    "#model.add(Dense(1008,kernel_initializer='he_uniform',activation='relu'))\n",
    "model.add(Dense(n_classes, kernel_regularizer=tf.keras.regularizers.l2(0.01),activation='softmax'))\n",
    "model.summary()"
   ]
  },
  {
   "cell_type": "code",
   "execution_count": 27,
   "metadata": {},
   "outputs": [],
   "source": [
    "model.load_weights(basemodel)"
   ]
  },
  {
   "cell_type": "code",
   "execution_count": null,
   "metadata": {},
   "outputs": [],
   "source": [
    "model.pop()\n",
    "model.add(Dense(n_classes, kernel_regularizer=tf.keras.regularizers.l2(0.01),activation='softmax'))\n",
    "model.summary()"
   ]
  },
  {
   "cell_type": "code",
   "execution_count": null,
   "metadata": {},
   "outputs": [],
   "source": [
    "Adam(\n",
    "    learning_rate=0.0001,\n",
    "    beta_1=0.79,\n",
    "    beta_2=0.776,\n",
    "    epsilon=9e-04,\n",
    "    amsgrad=True,\n",
    "    name=\"Adam\", \n",
    ")"
   ]
  },
  {
   "cell_type": "code",
   "execution_count": 37,
   "metadata": {},
   "outputs": [
    {
     "name": "stdout",
     "output_type": "stream",
     "text": [
      "Train on 32804 samples\n",
      "Epoch 1/108\n",
      "32800/32804 [============================>.] - ETA: 0s - loss: 6.6739 - categorical_accuracy: 0.8685\n",
      "Epoch 00001: categorical_accuracy improved from -inf to 0.86846, saving model to ./HOG_NN/mataji/Female/v1/model_333.h5\n",
      "32804/32804 [==============================] - 43s 1ms/sample - loss: 6.6739 - categorical_accuracy: 0.8685\n",
      "Epoch 2/108\n",
      "32768/32804 [============================>.] - ETA: 0s - loss: 6.6690 - categorical_accuracy: 0.8672 ETA: 4s - loss: 6.664 - ETA: 3s - loss: 6.6650 - \n",
      "Epoch 00002: categorical_accuracy did not improve from 0.86846\n",
      "32804/32804 [==============================] - 38s 1ms/sample - loss: 6.6690 - categorical_accuracy: 0.8673\n",
      "Epoch 3/108\n",
      "32768/32804 [============================>.] - ETA: 0s - loss: 6.6644 - categorical_accuracy: 0.8685\n",
      "Epoch 00003: categorical_accuracy did not improve from 0.86846\n",
      "32804/32804 [==============================] - 41s 1ms/sample - loss: 6.6645 - categorical_accuracy: 0.8685\n",
      "Epoch 4/108\n",
      "32768/32804 [============================>.] - ETA: 0s - loss: 6.6599 - categorical_accuracy: 0.8688\n",
      "Epoch 00004: categorical_accuracy improved from 0.86846 to 0.86877, saving model to ./HOG_NN/mataji/Female/v1/model_333.h5\n",
      "32804/32804 [==============================] - 37s 1ms/sample - loss: 6.6599 - categorical_accuracy: 0.8688\n",
      "Epoch 5/108\n",
      " 1056/32804 [..............................] - ETA: 40s - loss: 6.6251 - categorical_accuracy: 0.8731"
     ]
    },
    {
     "ename": "KeyboardInterrupt",
     "evalue": "",
     "output_type": "error",
     "traceback": [
      "\u001b[1;31m---------------------------------------------------------------------------\u001b[0m",
      "\u001b[1;31mKeyboardInterrupt\u001b[0m                         Traceback (most recent call last)",
      "\u001b[1;32m~\\AppData\\Local\\Temp\\ipykernel_13260\\4063478063.py\u001b[0m in \u001b[0;36m<module>\u001b[1;34m\u001b[0m\n\u001b[0;32m     39\u001b[0m           \u001b[0mepochs\u001b[0m\u001b[1;33m=\u001b[0m\u001b[1;36m108\u001b[0m\u001b[1;33m,\u001b[0m\u001b[1;33m\u001b[0m\u001b[1;33m\u001b[0m\u001b[0m\n\u001b[0;32m     40\u001b[0m           \u001b[1;31m#verbose=1,\u001b[0m\u001b[1;33m\u001b[0m\u001b[1;33m\u001b[0m\u001b[1;33m\u001b[0m\u001b[0m\n\u001b[1;32m---> 41\u001b[1;33m           \u001b[0mcallbacks\u001b[0m\u001b[1;33m=\u001b[0m\u001b[1;33m[\u001b[0m\u001b[0mcheckpoint\u001b[0m\u001b[1;33m]\u001b[0m\u001b[1;33m\u001b[0m\u001b[1;33m\u001b[0m\u001b[0m\n\u001b[0m\u001b[0;32m     42\u001b[0m           )\n\u001b[0;32m     43\u001b[0m \u001b[0mend\u001b[0m \u001b[1;33m=\u001b[0m \u001b[0mdatetime\u001b[0m\u001b[1;33m.\u001b[0m\u001b[0mdatetime\u001b[0m\u001b[1;33m.\u001b[0m\u001b[0mnow\u001b[0m\u001b[1;33m(\u001b[0m\u001b[1;33m)\u001b[0m\u001b[1;33m\u001b[0m\u001b[1;33m\u001b[0m\u001b[0m\n",
      "\u001b[1;32mc:\\Users\\balaj\\anaconda3\\envs\\GPU_ML\\lib\\site-packages\\tensorflow_core\\python\\keras\\engine\\training.py\u001b[0m in \u001b[0;36mfit\u001b[1;34m(self, x, y, batch_size, epochs, verbose, callbacks, validation_split, validation_data, shuffle, class_weight, sample_weight, initial_epoch, steps_per_epoch, validation_steps, validation_freq, max_queue_size, workers, use_multiprocessing, **kwargs)\u001b[0m\n\u001b[0;32m    725\u001b[0m         \u001b[0mmax_queue_size\u001b[0m\u001b[1;33m=\u001b[0m\u001b[0mmax_queue_size\u001b[0m\u001b[1;33m,\u001b[0m\u001b[1;33m\u001b[0m\u001b[1;33m\u001b[0m\u001b[0m\n\u001b[0;32m    726\u001b[0m         \u001b[0mworkers\u001b[0m\u001b[1;33m=\u001b[0m\u001b[0mworkers\u001b[0m\u001b[1;33m,\u001b[0m\u001b[1;33m\u001b[0m\u001b[1;33m\u001b[0m\u001b[0m\n\u001b[1;32m--> 727\u001b[1;33m         use_multiprocessing=use_multiprocessing)\n\u001b[0m\u001b[0;32m    728\u001b[0m \u001b[1;33m\u001b[0m\u001b[0m\n\u001b[0;32m    729\u001b[0m   def evaluate(self,\n",
      "\u001b[1;32mc:\\Users\\balaj\\anaconda3\\envs\\GPU_ML\\lib\\site-packages\\tensorflow_core\\python\\keras\\engine\\training_arrays.py\u001b[0m in \u001b[0;36mfit\u001b[1;34m(self, model, x, y, batch_size, epochs, verbose, callbacks, validation_split, validation_data, shuffle, class_weight, sample_weight, initial_epoch, steps_per_epoch, validation_steps, validation_freq, **kwargs)\u001b[0m\n\u001b[0;32m    673\u001b[0m         \u001b[0mvalidation_steps\u001b[0m\u001b[1;33m=\u001b[0m\u001b[0mvalidation_steps\u001b[0m\u001b[1;33m,\u001b[0m\u001b[1;33m\u001b[0m\u001b[1;33m\u001b[0m\u001b[0m\n\u001b[0;32m    674\u001b[0m         \u001b[0mvalidation_freq\u001b[0m\u001b[1;33m=\u001b[0m\u001b[0mvalidation_freq\u001b[0m\u001b[1;33m,\u001b[0m\u001b[1;33m\u001b[0m\u001b[1;33m\u001b[0m\u001b[0m\n\u001b[1;32m--> 675\u001b[1;33m         steps_name='steps_per_epoch')\n\u001b[0m\u001b[0;32m    676\u001b[0m \u001b[1;33m\u001b[0m\u001b[0m\n\u001b[0;32m    677\u001b[0m   def evaluate(self,\n",
      "\u001b[1;32mc:\\Users\\balaj\\anaconda3\\envs\\GPU_ML\\lib\\site-packages\\tensorflow_core\\python\\keras\\engine\\training_arrays.py\u001b[0m in \u001b[0;36mmodel_iteration\u001b[1;34m(model, inputs, targets, sample_weights, batch_size, epochs, verbose, callbacks, val_inputs, val_targets, val_sample_weights, shuffle, initial_epoch, steps_per_epoch, validation_steps, validation_freq, mode, validation_in_fit, prepared_feed_values_from_dataset, steps_name, **kwargs)\u001b[0m\n\u001b[0;32m    392\u001b[0m \u001b[1;33m\u001b[0m\u001b[0m\n\u001b[0;32m    393\u001b[0m         \u001b[1;31m# Get outputs.\u001b[0m\u001b[1;33m\u001b[0m\u001b[1;33m\u001b[0m\u001b[1;33m\u001b[0m\u001b[0m\n\u001b[1;32m--> 394\u001b[1;33m         \u001b[0mbatch_outs\u001b[0m \u001b[1;33m=\u001b[0m \u001b[0mf\u001b[0m\u001b[1;33m(\u001b[0m\u001b[0mins_batch\u001b[0m\u001b[1;33m)\u001b[0m\u001b[1;33m\u001b[0m\u001b[1;33m\u001b[0m\u001b[0m\n\u001b[0m\u001b[0;32m    395\u001b[0m         \u001b[1;32mif\u001b[0m \u001b[1;32mnot\u001b[0m \u001b[0misinstance\u001b[0m\u001b[1;33m(\u001b[0m\u001b[0mbatch_outs\u001b[0m\u001b[1;33m,\u001b[0m \u001b[0mlist\u001b[0m\u001b[1;33m)\u001b[0m\u001b[1;33m:\u001b[0m\u001b[1;33m\u001b[0m\u001b[1;33m\u001b[0m\u001b[0m\n\u001b[0;32m    396\u001b[0m           \u001b[0mbatch_outs\u001b[0m \u001b[1;33m=\u001b[0m \u001b[1;33m[\u001b[0m\u001b[0mbatch_outs\u001b[0m\u001b[1;33m]\u001b[0m\u001b[1;33m\u001b[0m\u001b[1;33m\u001b[0m\u001b[0m\n",
      "\u001b[1;32mc:\\Users\\balaj\\anaconda3\\envs\\GPU_ML\\lib\\site-packages\\tensorflow_core\\python\\keras\\backend.py\u001b[0m in \u001b[0;36m__call__\u001b[1;34m(self, inputs)\u001b[0m\n\u001b[0;32m   3474\u001b[0m \u001b[1;33m\u001b[0m\u001b[0m\n\u001b[0;32m   3475\u001b[0m     fetched = self._callable_fn(*array_vals,\n\u001b[1;32m-> 3476\u001b[1;33m                                 run_metadata=self.run_metadata)\n\u001b[0m\u001b[0;32m   3477\u001b[0m     \u001b[0mself\u001b[0m\u001b[1;33m.\u001b[0m\u001b[0m_call_fetch_callbacks\u001b[0m\u001b[1;33m(\u001b[0m\u001b[0mfetched\u001b[0m\u001b[1;33m[\u001b[0m\u001b[1;33m-\u001b[0m\u001b[0mlen\u001b[0m\u001b[1;33m(\u001b[0m\u001b[0mself\u001b[0m\u001b[1;33m.\u001b[0m\u001b[0m_fetches\u001b[0m\u001b[1;33m)\u001b[0m\u001b[1;33m:\u001b[0m\u001b[1;33m]\u001b[0m\u001b[1;33m)\u001b[0m\u001b[1;33m\u001b[0m\u001b[1;33m\u001b[0m\u001b[0m\n\u001b[0;32m   3478\u001b[0m     output_structure = nest.pack_sequence_as(\n",
      "\u001b[1;32mc:\\Users\\balaj\\anaconda3\\envs\\GPU_ML\\lib\\site-packages\\tensorflow_core\\python\\client\\session.py\u001b[0m in \u001b[0;36m__call__\u001b[1;34m(self, *args, **kwargs)\u001b[0m\n\u001b[0;32m   1470\u001b[0m         ret = tf_session.TF_SessionRunCallable(self._session._session,\n\u001b[0;32m   1471\u001b[0m                                                \u001b[0mself\u001b[0m\u001b[1;33m.\u001b[0m\u001b[0m_handle\u001b[0m\u001b[1;33m,\u001b[0m \u001b[0margs\u001b[0m\u001b[1;33m,\u001b[0m\u001b[1;33m\u001b[0m\u001b[1;33m\u001b[0m\u001b[0m\n\u001b[1;32m-> 1472\u001b[1;33m                                                run_metadata_ptr)\n\u001b[0m\u001b[0;32m   1473\u001b[0m         \u001b[1;32mif\u001b[0m \u001b[0mrun_metadata\u001b[0m\u001b[1;33m:\u001b[0m\u001b[1;33m\u001b[0m\u001b[1;33m\u001b[0m\u001b[0m\n\u001b[0;32m   1474\u001b[0m           \u001b[0mproto_data\u001b[0m \u001b[1;33m=\u001b[0m \u001b[0mtf_session\u001b[0m\u001b[1;33m.\u001b[0m\u001b[0mTF_GetBuffer\u001b[0m\u001b[1;33m(\u001b[0m\u001b[0mrun_metadata_ptr\u001b[0m\u001b[1;33m)\u001b[0m\u001b[1;33m\u001b[0m\u001b[1;33m\u001b[0m\u001b[0m\n",
      "\u001b[1;31mKeyboardInterrupt\u001b[0m: "
     ]
    }
   ],
   "source": [
    "from tensorflow.keras.callbacks import ModelCheckpoint, EarlyStopping\n",
    "model.load_weights(basedir+\"model_333.h5\")\n",
    "checkpoint = ModelCheckpoint(basedir+\"model_333.h5\", \n",
    "                             monitor='categorical_accuracy', \n",
    "                             verbose=1, \n",
    "                             save_best_only=True, \n",
    "                             save_weights_only=False, \n",
    "                             mode='auto', \n",
    "                             #save_freq=1\n",
    "                             )\n",
    "\n",
    "early = EarlyStopping(monitor='categorical_accuracy', \n",
    "                      min_delta=0, \n",
    "                      patience=18, \n",
    "                      verbose=1, \n",
    "                      mode='auto')\n",
    "Adam(\n",
    "    learning_rate=0.001,\n",
    "    beta_1=0.78,\n",
    "    beta_2=0.776,\n",
    "    epsilon=9e-04,\n",
    "    amsgrad=True,\n",
    "    name=\"Adam\", \n",
    ")\n",
    "\n",
    "tf.keras.optimizers.SGD(\n",
    "    learning_rate=0.0001, momentum=0.2, name=\"SGD\"\n",
    ")\n",
    "\n",
    "model.compile(\n",
    "    optimizer='SGD',\n",
    "    loss='categorical_crossentropy',\n",
    "    metrics=['categorical_accuracy'])\n",
    "\n",
    "import datetime\n",
    "start = datetime.datetime.now()\n",
    "#Fit the model. Do not forget to use on-hot-encoded Y values. \n",
    "model.fit(train_PCA,OHE_labels,\n",
    "          epochs=108, \n",
    "          #verbose=1,\n",
    "          callbacks=[checkpoint]\n",
    "          )\n",
    "end = datetime.datetime.now()\n",
    "print(\"Total execution time with PCA is: \", end-start)"
   ]
  },
  {
   "cell_type": "code",
   "execution_count": 73,
   "metadata": {},
   "outputs": [],
   "source": [
    "test_PCA = pca.transform(data) #Make sure you are just transforming, not fitting.\n",
    "#Predict on test dataset\n",
    "predict_test = model.predict(test_PCA)\n",
    "predict_test = np.argmax(predict_test, axis=1)\n",
    "predict_test = le.inverse_transform(predict_test)"
   ]
  },
  {
   "cell_type": "code",
   "execution_count": 74,
   "metadata": {},
   "outputs": [
    {
     "name": "stdout",
     "output_type": "stream",
     "text": [
      "Accuracy =  1.0\n"
     ]
    }
   ],
   "source": [
    "##Print overall accuracy\n",
    "from sklearn import metrics\n",
    "print (\"Accuracy = \", metrics.accuracy_score(labels, predict_test))"
   ]
  },
  {
   "cell_type": "markdown",
   "metadata": {},
   "source": [
    "__Prediction Report__"
   ]
  },
  {
   "cell_type": "code",
   "execution_count": 75,
   "metadata": {},
   "outputs": [
    {
     "data": {
      "text/plain": [
       "<AxesSubplot:>"
      ]
     },
     "execution_count": 75,
     "metadata": {},
     "output_type": "execute_result"
    },
    {
     "data": {
      "image/png": "[encoded data removed]",
      "text/plain": [
       "<Figure size 432x288 with 2 Axes>"
      ]
     },
     "metadata": {
      "needs_background": "light"
     },
     "output_type": "display_data"
    }
   ],
   "source": [
    "#Confusion Matrix - verify accuracy of each class - Do not do it for classes more than 30\n",
    "from sklearn.metrics import confusion_matrix\n",
    "#testY=str(testY)\n",
    "cm = confusion_matrix(labels, predict_test)\n",
    "#print(cm)\n",
    "sns.heatmap(cm, annot=True)"
   ]
  },
  {
   "cell_type": "code",
   "execution_count": 80,
   "metadata": {},
   "outputs": [
    {
     "name": "stdout",
     "output_type": "stream",
     "text": [
      "365\n",
      "(9408,)\n",
      "(1, 9408)\n",
      "[24]\n",
      "The prediction for this image is:  ['4220']\n",
      "The actual label for this image is:  4220\n"
     ]
    }
   ],
   "source": [
    "#Check results on a few select images\n",
    "n=np.random.randint(0,data.shape[0])\n",
    "print(n)\n",
    "val = data[n]\n",
    "print(val.shape)\n",
    "x = np.expand_dims(val, axis=0) #Expand dims so the input is (num images, x, y, c)\n",
    "print(x.shape)\n",
    "# #Expand dims so the input is (num images, x, y, c)\n",
    "input_img_feature=x\n",
    "input_img_PCA = pca.transform(input_img_feature)\n",
    "prediction_img = model.predict(input_img_PCA)\n",
    "prediction_img = np.argmax(prediction_img, axis=1)\n",
    "print(prediction_img)\n",
    "prediction_img = le.inverse_transform(prediction_img)  #Reverse the label encoder to original name\n",
    "print(\"The prediction for this image is: \", prediction_img)\n",
    "print(\"The actual label for this image is: \", labels[n])"
   ]
  },
  {
   "cell_type": "code",
   "execution_count": 77,
   "metadata": {},
   "outputs": [
    {
     "ename": "TypeError",
     "evalue": "HOG() takes 1 positional argument but 2 were given",
     "output_type": "error",
     "traceback": [
      "\u001b[1;31m---------------------------------------------------------------------------\u001b[0m",
      "\u001b[1;31mTypeError\u001b[0m                                 Traceback (most recent call last)",
      "\u001b[1;32m~\\AppData\\Local\\Temp\\ipykernel_14412\\3117256931.py\u001b[0m in \u001b[0;36m<module>\u001b[1;34m\u001b[0m\n\u001b[0;32m      1\u001b[0m \u001b[0mSIZE\u001b[0m\u001b[1;33m=\u001b[0m\u001b[1;36m256\u001b[0m\u001b[1;33m\u001b[0m\u001b[1;33m\u001b[0m\u001b[0m\n\u001b[0;32m      2\u001b[0m \u001b[0mimagepath\u001b[0m\u001b[1;33m=\u001b[0m\u001b[1;34m'./path/Dataset/Vrindhaavan_overall_backup/Vrindavan_overall/1464/Chatshikhar_Cow_Female_13.png'\u001b[0m\u001b[1;33m\u001b[0m\u001b[1;33m\u001b[0m\u001b[0m\n\u001b[1;32m----> 3\u001b[1;33m \u001b[0mH\u001b[0m\u001b[1;33m=\u001b[0m\u001b[0mHOG\u001b[0m\u001b[1;33m(\u001b[0m\u001b[0mimagepath\u001b[0m\u001b[1;33m,\u001b[0m\u001b[0mSIZE\u001b[0m\u001b[1;33m)\u001b[0m\u001b[1;33m\u001b[0m\u001b[1;33m\u001b[0m\u001b[0m\n\u001b[0m\u001b[0;32m      4\u001b[0m \u001b[0mx\u001b[0m \u001b[1;33m=\u001b[0m \u001b[0mnp\u001b[0m\u001b[1;33m.\u001b[0m\u001b[0mexpand_dims\u001b[0m\u001b[1;33m(\u001b[0m\u001b[0mH\u001b[0m\u001b[1;33m,\u001b[0m \u001b[0maxis\u001b[0m\u001b[1;33m=\u001b[0m\u001b[1;36m0\u001b[0m\u001b[1;33m)\u001b[0m\u001b[1;33m\u001b[0m\u001b[1;33m\u001b[0m\u001b[0m\n\u001b[0;32m      5\u001b[0m \u001b[0minput_img_feature\u001b[0m\u001b[1;33m=\u001b[0m\u001b[0mx\u001b[0m\u001b[1;33m\u001b[0m\u001b[1;33m\u001b[0m\u001b[0m\n",
      "\u001b[1;31mTypeError\u001b[0m: HOG() takes 1 positional argument but 2 were given"
     ]
    }
   ],
   "source": [
    "SIZE=256\n",
    "imagepath='./path/Dataset/Vrindhaavan_overall_backup/Vrindavan_overall/1464/Chatshikhar_Cow_Female_13.png'\n",
    "H=HOG(imagepath,SIZE)\n",
    "x = np.expand_dims(H, axis=0)\n",
    "input_img_feature=x\n",
    "input_img_PCA = pca.transform(input_img_feature)\n",
    "prediction_img = model.predict(input_img_PCA)\n",
    "prediction_img = np.argmax(prediction_img, axis=1)\n",
    "print(prediction_img)\n",
    "prediction_img = le.inverse_transform(prediction_img)  #Reverse the label encoder to original name\n",
    "print(\"The prediction for this image is: \", prediction_img)\n",
    "#print(\"The actual label for this image is: \", test_labels[n])"
   ]
  },
  {
   "cell_type": "code",
   "execution_count": null,
   "metadata": {},
   "outputs": [],
   "source": [
    "from tensorflow.keras import Model\n",
    "SIZE=256\n",
    "imagepath='./path/Dataset/Vrindhaavan_overall_backup/Vrindavan_overall/1464/Chatshikhar_Cow_Female_13.png'\n",
    "H=HOG(imagepath,SIZE)\n",
    "x = np.expand_dims(H, axis=0)\n",
    "input_img_feature=x\n",
    "input_img_PCA = pca.fit_transform(input_img_feature)\n",
    "all_model=load_('./Vrindhavan_Overall_sukirti.h5')\n",
    "prediction_img = all_model.predict(input_img_PCA)\n",
    "prediction_img = np.argmax(prediction_img, axis=1)\n",
    "print(prediction_img)\n",
    "prediction_img = le.inverse_transform(prediction_img)  #Reverse the label encoder to original name\n",
    "print(\"The prediction for this image is: \", prediction_img)\n",
    "#print(\"The actual label for this image is: \", test_labels[n])"
   ]
  }
 ],
 "metadata": {
  "kernelspec": {
   "display_name": "Python 3.7.13 ('GPU_ML')",
   "language": "python",
   "name": "python3"
  },
  "language_info": {
   "codemirror_mode": {
    "name": "ipython",
    "version": 3
   },
   "file_extension": ".py",
   "mimetype": "text/x-python",
   "name": "python",
   "nbconvert_exporter": "python",
   "pygments_lexer": "ipython3",
   "version": "3.7.13"
  },
  "orig_nbformat": 4,
  "vscode": {
   "interpreter": {
    "hash": "81d8000a49e387cd3bf236de4b1b0050e70533eb5acd278118fdc7c0243f6cc5"
   }
  }
 },
 "nbformat": 4,
 "nbformat_minor": 2
}
