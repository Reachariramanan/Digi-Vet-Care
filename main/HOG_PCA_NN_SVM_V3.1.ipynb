{
 "cells": [
  {
   "cell_type": "code",
   "execution_count": 8,
   "metadata": {},
   "outputs": [],
   "source": [
    "import os\n",
    "import cv2\n",
    "import glob\n",
    "import numpy as np \n",
    "import matplotlib.pyplot as plt\n",
    "%matplotlib inline\n",
    "import tensorflow as tf\n",
    "from skimage.feature import hog\n",
    "from sklearn.decomposition import IncrementalPCA, PCA\n",
    "from tensorflow.keras.optimizers import Adam\n",
    "from tensorflow.keras.models import Sequential\n",
    "from tensorflow.keras.layers import Dense, InputLayer"
   ]
  },
  {
   "cell_type": "code",
   "execution_count": 2,
   "metadata": {},
   "outputs": [
    {
     "name": "stdout",
     "output_type": "stream",
     "text": [
      "GPU Availability :  True\n"
     ]
    }
   ],
   "source": [
    "import tensorflow as tf\n",
    "DEVICES=tf.config.experimental.list_physical_devices()\n",
    "print('GPU Availability : ',tf.test.is_gpu_available())\n",
    "tf.config.experimental.set_memory_growth(device=DEVICES[1],enable=True)     "
   ]
  },
  {
   "cell_type": "code",
   "execution_count": 3,
   "metadata": {},
   "outputs": [],
   "source": [
    "basedir='./HOG_NN/mataji/Female/7/'"
   ]
  },
  {
   "cell_type": "code",
   "execution_count": 4,
   "metadata": {},
   "outputs": [],
   "source": [
    "def HOG(imagePath):\n",
    "    H=[]\n",
    "    image = cv2.imread(imagePath)\n",
    "    #image = cv2.bitwise_not(image)\n",
    "    gray = cv2.cvtColor(image, cv2.COLOR_BGR2GRAY)\n",
    "    clahe = cv2.createCLAHE(clipLimit=2.3, tileGridSize=(8,8))\n",
    "    img = clahe.apply(gray)\n",
    "    imS = cv2.resize(img, (161, 182)) \n",
    "    (H, hogImage) = hog(imS, orientations=1, pixels_per_cell=(7,7),cells_per_block=(2,2), transform_sqrt=True, block_norm=\"L1\", visualize=True) \n",
    "    #Data Normalisation (Normalising HOG Features)\n",
    "    H*=10\n",
    "    return H"
   ]
  },
  {
   "cell_type": "code",
   "execution_count": 5,
   "metadata": {},
   "outputs": [
    {
     "name": "stdout",
     "output_type": "stream",
     "text": [
      "Couldn't find program: 'False'\n"
     ]
    }
   ],
   "source": [
    "%%script False\n",
    "data = []\n",
    "labels = []\n",
    "traindir='./path/Dataset/ghoshaala/MatajiGaushala'#Enter the Train Directory\n",
    "for directory_path in glob.glob(traindir+\"/*\"):\n",
    "    label = directory_path.split(\"\\\\\")[-1]\n",
    "    print(label)\n",
    "    for img_path in glob.glob(os.path.join(directory_path,\"*.png\")):\n",
    "        #print(img_path)\n",
    "        A = HOG(img_path)\n",
    "        data.append(A)\n",
    "        labels.append(label)\n",
    "np.save(basedir+'data.npy',data)\n",
    "np.save(basedir+'labels.npy',labels)"
   ]
  },
  {
   "cell_type": "code",
   "execution_count": 6,
   "metadata": {},
   "outputs": [
    {
     "name": "stdout",
     "output_type": "stream",
     "text": [
      "Classes  2840\n",
      "Data     (42599, 2200)\n",
      "labels   (42599,)\n",
      "One Hot Labels  (42599, 2840)\n"
     ]
    }
   ],
   "source": [
    "data=np.load(basedir+'data.npy')\n",
    "labels=np.load(basedir+'labels.npy')\n",
    "from sklearn import preprocessing\n",
    "from tensorflow.keras.utils import to_categorical\n",
    "le = preprocessing.LabelEncoder()\n",
    "le.fit(labels)\n",
    "toh= le.transform(labels)\n",
    "OHE_labels=to_categorical(toh)\n",
    "n_classes=OHE_labels.shape[1]\n",
    "print(\"Classes \",n_classes,)\n",
    "print(\"Data    \",data.shape)\n",
    "print(\"labels  \",labels.shape)\n",
    "print(\"One Hot Labels \",OHE_labels.shape)"
   ]
  },
  {
   "cell_type": "code",
   "execution_count": 5,
   "metadata": {},
   "outputs": [
    {
     "data": {
      "text/plain": [
       "Text(0, 0.5, 'Cum variance')"
      ]
     },
     "execution_count": 5,
     "metadata": {},
     "output_type": "execute_result"
    },
    {
     "data": {
      "image/png": "[encoded data removed]",
      "text/plain": [
       "<Figure size 432x288 with 1 Axes>"
      ]
     },
     "metadata": {
      "needs_background": "light"
     },
     "output_type": "display_data"
    }
   ],
   "source": [
    "#%%script false\n",
    "# First verfiy the ideal number of PCA components to not lose much information. \n",
    "# Try to retain 90% information, so look where the curve starts to flatten.\n",
    "# Remember that the n_components must be lower than the number of rows or columns (features)\n",
    "pca_test = PCA(n_components=650) \n",
    "pca_test.fit(data)\n",
    "#pca_test.fit(data)\n",
    "plt.plot(np.cumsum(pca_test.explained_variance_ratio_))\n",
    "plt.xlabel(\"Number of components\")\n",
    "plt.ylabel(\"Cum variance\")"
   ]
  },
  {
   "cell_type": "code",
   "execution_count": 10,
   "metadata": {},
   "outputs": [],
   "source": [
    "n_PCA_components = 300\n",
    "pca = PCA(n_components=n_PCA_components)\n",
    "train_PCA = pca.fit_transform(data)"
   ]
  },
  {
   "cell_type": "code",
   "execution_count": 11,
   "metadata": {},
   "outputs": [],
   "source": [
    "#%%script false\n",
    "import pickle as pk\n",
    "pk.dump(pca, open(basedir+\"pca_data.pkl\",\"wb\"))"
   ]
  },
  {
   "cell_type": "code",
   "execution_count": 11,
   "metadata": {},
   "outputs": [],
   "source": [
    "#Memory cleaning by removing unwanted variable \n",
    "data=[]"
   ]
  },
  {
   "cell_type": "code",
   "execution_count": 12,
   "metadata": {},
   "outputs": [
    {
     "name": "stdout",
     "output_type": "stream",
     "text": [
      "WARNING:tensorflow:From c:\\Users\\balaj\\anaconda3\\envs\\GPU_ML\\lib\\site-packages\\tensorflow_core\\python\\ops\\resource_variable_ops.py:1630: calling BaseResourceVariable.__init__ (from tensorflow.python.ops.resource_variable_ops) with constraint is deprecated and will be removed in a future version.\n",
      "Instructions for updating:\n",
      "If using Keras pass *_constraint arguments to layers.\n",
      "Model: \"sequential\"\n",
      "_________________________________________________________________\n",
      "Layer (type)                 Output Shape              Param #   \n",
      "=================================================================\n",
      "dense (Dense)                (None, 1008)              505008    \n",
      "_________________________________________________________________\n",
      "dense_1 (Dense)              (None, 400)               403600    \n",
      "_________________________________________________________________\n",
      "dense_2 (Dense)              (None, 2048)              821248    \n",
      "_________________________________________________________________\n",
      "dense_3 (Dense)              (None, 2840)              5819160   \n",
      "=================================================================\n",
      "Total params: 7,549,016\n",
      "Trainable params: 7,549,016\n",
      "Non-trainable params: 0\n",
      "_________________________________________________________________\n"
     ]
    }
   ],
   "source": [
    "model = Sequential()\n",
    "model.add(InputLayer(input_shape=(n_PCA_components,)))\n",
    "model.add(Dense(1008,activation='relu'))\n",
    "model.add(Dense(400,activation='sigmoid'))\n",
    "model.add(Dense(2048,activation='relu'))\n",
    "model.add(Dense(n_classes, kernel_regularizer=tf.keras.regularizers.l2(0.001),activation='softmax'))\n",
    "model.summary()"
   ]
  },
  {
   "cell_type": "code",
   "execution_count": 16,
   "metadata": {},
   "outputs": [
    {
     "name": "stdout",
     "output_type": "stream",
     "text": [
      "Train on 42599 samples\n",
      "Epoch 1/5\n",
      "42592/42599 [============================>.] - ETA: 0s - loss: 0.3952 - categorical_accuracy: 0.9371\n",
      "Epoch 00001: categorical_accuracy improved from -inf to 0.93716, saving model to ./HOG_NN/mataji/Female/7/model.h5\n",
      "42599/42599 [==============================] - 238s 6ms/sample - loss: 0.3951 - categorical_accuracy: 0.9372\n",
      "Epoch 2/5\n",
      "42592/42599 [============================>.] - ETA: 0s - loss: 0.1246 - categorical_accuracy: 0.9956\n",
      "Epoch 00002: categorical_accuracy improved from 0.93716 to 0.99559, saving model to ./HOG_NN/mataji/Female/7/model.h5\n",
      "42599/42599 [==============================] - 242s 6ms/sample - loss: 0.1246 - categorical_accuracy: 0.9956\n",
      "Epoch 3/5\n",
      "42592/42599 [============================>.] - ETA: 0s - loss: 0.0987 - categorical_accuracy: 0.9965\n",
      "Epoch 00003: categorical_accuracy improved from 0.99559 to 0.99648, saving model to ./HOG_NN/mataji/Female/7/model.h5\n",
      "42599/42599 [==============================] - 2641s 62ms/sample - loss: 0.0987 - categorical_accuracy: 0.9965\n",
      "Epoch 4/5\n",
      "42592/42599 [============================>.] - ETA: 0s - loss: 0.0891 - categorical_accuracy: 0.9960\n",
      "Epoch 00004: categorical_accuracy did not improve from 0.99648\n",
      "42599/42599 [==============================] - 253s 6ms/sample - loss: 0.0891 - categorical_accuracy: 0.9960\n",
      "Epoch 5/5\n",
      "42592/42599 [============================>.] - ETA: 0s - loss: 0.0828 - categorical_accuracy: 0.9965\n",
      "Epoch 00005: categorical_accuracy did not improve from 0.99648\n",
      "42599/42599 [==============================] - 240s 6ms/sample - loss: 0.0828 - categorical_accuracy: 0.9965\n",
      "Total execution time with PCA is:  1:00:14.865445\n"
     ]
    }
   ],
   "source": [
    "from tensorflow.keras.callbacks import ModelCheckpoint, EarlyStopping\n",
    "#model.load_weights(basedir+\"model.h5\")\n",
    "\n",
    "checkpoint = ModelCheckpoint(basedir+\"model.h5\", \n",
    "                             monitor='categorical_accuracy', \n",
    "                             verbose=1, \n",
    "                             save_best_only=True, \n",
    "                             save_weights_only=False, \n",
    "                             mode='auto', \n",
    "                             #save_freq=1\n",
    "                             )\n",
    "optamizer= Adam(\n",
    "    learning_rate=0.0001,\n",
    "    beta_1=0.99,\n",
    "    beta_2=0.999,\n",
    "    epsilon=1e-10,\n",
    "    amsgrad=True,\n",
    "    name=\"Adam\", \n",
    "    )\n",
    "\n",
    "early = EarlyStopping(monitor='categorical_accuracy', \n",
    "                      min_delta=0, \n",
    "                      patience=18, \n",
    "                      verbose=1, \n",
    "                      mode='auto')\n",
    "model.compile(\n",
    "    optimizer=optamizer,\n",
    "    loss='categorical_crossentropy',\n",
    "    metrics=['categorical_accuracy'])\n",
    "\n",
    "import datetime\n",
    "start = datetime.datetime.now()\n",
    "#Fit the model. Do not forget to use on-hot-encoded Y values. \n",
    "model.fit(train_PCA,OHE_labels,\n",
    "          epochs=5,\n",
    "          verbose=1,\n",
    "          callbacks=[checkpoint]\n",
    "          )\n",
    "end = datetime.datetime.now()\n",
    "print(\"Total execution time with PCA is: \", end-start)"
   ]
  }
 ],
 "metadata": {
  "kernelspec": {
   "display_name": "Python 3.7.13 ('GPU_ML')",
   "language": "python",
   "name": "python3"
  },
  "language_info": {
   "codemirror_mode": {
    "name": "ipython",
    "version": 3
   },
   "file_extension": ".py",
   "mimetype": "text/x-python",
   "name": "python",
   "nbconvert_exporter": "python",
   "pygments_lexer": "ipython3",
   "version": "3.7.13"
  },
  "orig_nbformat": 4,
  "vscode": {
   "interpreter": {
    "hash": "81d8000a49e387cd3bf236de4b1b0050e70533eb5acd278118fdc7c0243f6cc5"
   }
  }
 },
 "nbformat": 4,
 "nbformat_minor": 2
}
