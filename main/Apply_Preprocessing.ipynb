{
 "cells": [
  {
   "cell_type": "code",
   "execution_count": 20,
   "metadata": {},
   "outputs": [],
   "source": [
    "\"\"\"Simple Hog Preprocessing\"\"\"\n",
    "from skimage import exposure\n",
    "from skimage import feature\n",
    "from imutils import paths\n",
    "\n",
    "for imagePath in paths.list_images(\"img_processing\"):\n",
    "#convert to HOG \n",
    "    image = cv2.imread(imagePath)\n",
    "  \n",
    "    gray = cv2.cvtColor(image, cv2.COLOR_BGR2GRAY)\n",
    "    #cl = cv2.createCLAHE(clipLimit=2.0, tileGridSize=(8,8))\n",
    "    #final_img = cl.apply(gray) \n",
    "    (H, hogImage) = feature.hog(gray, orientations=9, pixels_per_cell=(17, 17),cells_per_block=(2,2), transform_sqrt=True, block_norm=\"L1\", visualize=True) \n",
    "    hogImage = exposure.rescale_intensity(hogImage, out_range=(0, 255))\n",
    "    #cv2.imwrite(imagePath, hogImage)"
   ]
  },
  {
   "cell_type": "code",
   "execution_count": 2,
   "metadata": {},
   "outputs": [],
   "source": [
    "#Sharp kernal with clahe and HOG\n",
    "import cv2 \n",
    "import matplotlib.pyplot as plt\n",
    "import numpy as np\n",
    "from imutils import paths\n",
    "from skimage import exposure\n",
    "from skimage import feature\n",
    "kernel3 = np.array([[0, -1,  0],\n",
    "                    [-1,  5, -1],\n",
    "                    [0, -1,  0]])\n",
    "\n",
    "for imagePath in paths.list_images(\"MatajiGaushala_clahe/MatajiGaushala_Cow_Female_40\"):\n",
    "\n",
    "  image = cv2.imread(imagePath)\n",
    "  gray = cv2.cvtColor(image, cv2.COLOR_BGR2GRAY)\n",
    "  #cl = cv2.createCLAHE(clipLimit=2.0, tileGridSize=(8,8))\n",
    "  #final_img = cl.apply(gray) \n",
    "  npimage=np.array(gray)\n",
    "  sharp_img = cv2.filter2D(src=npimage, ddepth=-1, kernel=kernel3)\n",
    "  (H, hogImage) = feature.hog(sharp_img, orientations=9, pixels_per_cell=(17, 17),cells_per_block=(2,2), transform_sqrt=True, block_norm=\"L1\", visualize=True) \n",
    "  hogImage = exposure.rescale_intensity(hogImage, out_range=(0, 255))\n",
    "  cv2.imwrite(imagePath, hogImage)\n",
    "  "
   ]
  },
  {
   "cell_type": "code",
   "execution_count": null,
   "metadata": {},
   "outputs": [],
   "source": [
    "#recreate from backup \n",
    "import cv2 \n",
    "from imutils import paths\n",
    "basedir='c:\\\\Users\\\\balaj\\\\Desktop\\\\Training\\\\'\n",
    "dir= basedir + 'Datasets\\\\sample'\n",
    "bkp= dir+\"\\\\bkp\"\n",
    "for imagePath in paths.list_images(dir):\n",
    "    if imagePath == bkp:\n",
    "        for bkppth in paths.list_images(bkp):\n",
    "            image = cv2.imread(bkppth)  #conditional checking required \n",
    "            cv2.imwrite(imagePath,image)\n"
   ]
  },
  {
   "cell_type": "code",
   "execution_count": null,
   "metadata": {},
   "outputs": [],
   "source": [
    "#Apply CLAHE+ Thinning\n",
    "import cv2\n",
    "from imutils import paths\n",
    "from skimage import morphology, img_as_float, color, io, exposure\n",
    "from skimage import img_as_ubyte #for converting from skimage to cvimage \n",
    "\n",
    "basedir='c:\\\\Users\\\\balaj\\\\Desktop\\\\Training\\\\'\n",
    "dir= basedir + 'Datasets\\\\sample'\n",
    "\n",
    "for imagePath in paths.list_images(dir):\n",
    "  if imagePath==dir+'\\\\bkp':\n",
    "      break \n",
    "  else :  \n",
    "    print(imagePath)\n",
    "    image = color.rgb2gray(io.imread(dir))\n",
    "    image = exposure.equalize_adapthist(image, kernel_size=16, clip_limit=3.2, nbins=256) #clahe\n",
    "    image = img_as_float(image)\n",
    "    image_binary = image < 0.28\n",
    "    out_thin = morphology.thin(image_binary)\n",
    "    finalimg= img_as_ubyte(out_thin)\n",
    "    cv2.imwrite(imagePath, finalimg)\n",
    "  "
   ]
  }
 ],
 "metadata": {
  "interpreter": {
   "hash": "9c522faa5fce6d8b5c33a7e71c77e6295dd637a691eb1b9a0bee8b810b882952"
  },
  "kernelspec": {
   "display_name": "Python 3.7.5 64-bit ('imgml': conda)",
   "language": "python",
   "name": "python3"
  },
  "language_info": {
   "codemirror_mode": {
    "name": "ipython",
    "version": 3
   },
   "file_extension": ".py",
   "mimetype": "text/x-python",
   "name": "python",
   "nbconvert_exporter": "python",
   "pygments_lexer": "ipython3",
   "version": "3.7.5"
  },
  "orig_nbformat": 4
 },
 "nbformat": 4,
 "nbformat_minor": 2
}
