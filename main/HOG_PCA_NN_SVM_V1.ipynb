{
 "cells": [
  {
   "cell_type": "markdown",
   "metadata": {},
   "source": [
    "#HOG + PCA + NN + SVM v1"
   ]
  },
  {
   "cell_type": "code",
   "execution_count": 1,
   "metadata": {},
   "outputs": [
    {
     "name": "stdout",
     "output_type": "stream",
     "text": [
      "GPU Availability :  True\n"
     ]
    }
   ],
   "source": [
    "import tensorflow as tf\n",
    "DEVICES=tf.config.experimental.list_physical_devices()\n",
    "tf.config.experimental.set_memory_growth(device=DEVICES[1],enable=True)\n",
    "print('GPU Availability : ',tf.test.is_gpu_available())"
   ]
  },
  {
   "cell_type": "code",
   "execution_count": 5,
   "metadata": {},
   "outputs": [],
   "source": [
    "#Resnet-50 PCA\n",
    "import os\n",
    "import cv2\n",
    "import glob\n",
    "#import h5py\n",
    "import numpy as np \n",
    "import seaborn as sns\n",
    "#from pathlib import Path\n",
    "#from imutils import paths\n",
    "import matplotlib.pyplot as plt\n",
    "%matplotlib inline\n",
    "\n",
    "from skimage.feature import hog\n",
    "from sklearn.decomposition import PCA , IncrementalPCA\n",
    "from sklearn import metrics"
   ]
  },
  {
   "cell_type": "code",
   "execution_count": 6,
   "metadata": {},
   "outputs": [],
   "source": [
    "from tensorflow.keras import layers\n",
    "from tensorflow.keras.models import Model, Sequential\n",
    "from tensorflow.keras.optimizers import RMSprop,Adam,SGD\n",
    "#from tensorflow.keras.metrics import categorical_crossentropy\n",
    "from tensorflow.keras.layers import Activation, Dense, Flatten, Input, InputLayer"
   ]
  },
  {
   "cell_type": "code",
   "execution_count": 7,
   "metadata": {},
   "outputs": [],
   "source": [
    "def pcaimg(image):\n",
    "    blue, green, red = cv2.split(image)\n",
    "    df_red = red/255\n",
    "    df_blue = blue/255\n",
    "    df_green = green/255\n",
    "    pca_b = PCA(n_components=50)\n",
    "    pca_b.fit(df_blue)\n",
    "    trans_pca_b = pca_b.transform(df_blue)\n",
    "    \n",
    "    pca_g = PCA(n_components=50)\n",
    "    pca_g.fit(df_green)\n",
    "    trans_pca_g = pca_g.transform(df_green)\n",
    "    \n",
    "    pca_r = PCA(n_components=50)\n",
    "    pca_r.fit(df_red)\n",
    "    trans_pca_r = pca_r.transform(df_red)    \n",
    "    \n",
    "    b_arr = pca_b.inverse_transform(trans_pca_b)\n",
    "    g_arr = pca_g.inverse_transform(trans_pca_g)\n",
    "    r_arr = pca_r.inverse_transform(trans_pca_r)\n",
    "    \n",
    "    img_reduced = (cv2.merge((b_arr, g_arr, r_arr)))\n",
    "    \n",
    "    return img_reduced"
   ]
  },
  {
   "cell_type": "code",
   "execution_count": 8,
   "metadata": {},
   "outputs": [],
   "source": [
    "def HOG(imagePath,size):\n",
    "    H=[]\n",
    "    image = cv2.imread(imagePath)\n",
    "    imagem = cv2.bitwise_not(image)\n",
    "    imS = cv2.resize(image, (size, size))\n",
    "    gray = cv2.cvtColor(imS, cv2.COLOR_BGR2GRAY)\n",
    "    clahe = cv2.createCLAHE(clipLimit=2.3, tileGridSize=(8,8))\n",
    "    img = clahe.apply(gray) \n",
    "    #gray = cv2.cvtColor(imS, cv2.COLOR_BGR2GRAY)\n",
    "    (H, hogImage) = hog(img, orientations=9, pixels_per_cell=(17, 17),cells_per_block=(2,2), transform_sqrt=True, block_norm=\"L1\", visualize=True) \n",
    "    #Data Normalisation (Normalising HOG Features)\n",
    "    H*=10\n",
    "    return H"
   ]
  },
  {
   "cell_type": "code",
   "execution_count": null,
   "metadata": {},
   "outputs": [],
   "source": [
    "SIZE = 256\n",
    "data = []\n",
    "labels = []\n",
    "traindir='./path/Dataset/Vrindhaavan_overall_backup/Vrindavan_overall/'#Enter the Train Directory\n",
    "for directory_path in glob.glob(traindir+\"/*\"):\n",
    "    label = directory_path.split(\"\\\\\")[-1]\n",
    "    print(label)\n",
    "    for img_path in glob.glob(os.path.join(directory_path,\"*.png\")):\n",
    "        #print(img_path)\n",
    "        A = HOG(img_path,SIZE)\n",
    "        #H*=10 #data Normalisation\n",
    "        data.append(A)\n",
    "        labels.append(label)\n",
    "np.save('./HOG_NN/data.npy',data)\n",
    "np.save('./HOG_NN/labels.npy',labels)"
   ]
  },
  {
   "cell_type": "code",
   "execution_count": 9,
   "metadata": {},
   "outputs": [
    {
     "name": "stdout",
     "output_type": "stream",
     "text": [
      "16439\n",
      "(16439, 1096)\n"
     ]
    }
   ],
   "source": [
    "data=np.load('./HOG_NN/data.npy')\n",
    "labels=np.load('./HOG_NN/labels.npy')\n",
    "from sklearn import preprocessing\n",
    "from tensorflow.keras.utils import to_categorical\n",
    "le = preprocessing.LabelEncoder()\n",
    "le.fit(labels)\n",
    "toh= le.transform(labels)\n",
    "OHE_labels=to_categorical(toh)\n",
    "print(len(train_Y))\n",
    "print(train_Y.shape)"
   ]
  },
  {
   "cell_type": "code",
   "execution_count": 6,
   "metadata": {},
   "outputs": [
    {
     "data": {
      "text/plain": [
       "(16439, 7056)"
      ]
     },
     "execution_count": 6,
     "metadata": {},
     "output_type": "execute_result"
    }
   ],
   "source": [
    "data.shape"
   ]
  },
  {
   "cell_type": "code",
   "execution_count": 7,
   "metadata": {},
   "outputs": [
    {
     "data": {
      "text/plain": [
       "(16439,)"
      ]
     },
     "execution_count": 7,
     "metadata": {},
     "output_type": "execute_result"
    }
   ],
   "source": [
    "labels.shape"
   ]
  },
  {
   "cell_type": "code",
   "execution_count": null,
   "metadata": {},
   "outputs": [],
   "source": [
    "from collections import Counter\n",
    "print(*Counter(labels))"
   ]
  },
  {
   "cell_type": "code",
   "execution_count": null,
   "metadata": {},
   "outputs": [
    {
     "data": {
      "text/plain": [
       "Text(0, 0.5, 'Cum variance')"
      ]
     },
     "metadata": {},
     "output_type": "display_data"
    },
    {
     "data": {
      "image/png": "[encoded data removed]",
      "text/plain": [
       "<Figure size 432x288 with 1 Axes>"
      ]
     },
     "metadata": {},
     "output_type": "display_data"
    }
   ],
   "source": [
    "from sklearn.decomposition import PCA\n",
    "# First verfiy the ideal number of PCA components to not lose much information. \n",
    "# Try to retain 90% information, so look where the curve starts to flatten.\n",
    "# Remember that the n_components must be lower than the number of rows or columns (features)\n",
    "pca_test = PCA(n_components=3000) \n",
    "#pca_test.fit(trainX)\n",
    "pca_test.fit(data)\n",
    "plt.plot(np.cumsum(pca_test.explained_variance_ratio_))\n",
    "plt.xlabel(\"Number of components\")\n",
    "plt.ylabel(\"Cum variance\")"
   ]
  },
  {
   "cell_type": "code",
   "execution_count": 111,
   "metadata": {},
   "outputs": [],
   "source": [
    "#Pick the optimal number of components. This is how many features we will have \n",
    "#for our machine learning\n",
    "\n",
    "n_PCA_components = 1008\n",
    "pca = PCA(n_components=n_PCA_components)\n",
    "train_PCA = pca.fit_transform(data)\n",
    "#test_PCA = pca.transform(data) #Make sure you are just transforming, not fitting.\n",
    "\n",
    "#If we want 90% information captured we can also try ...\n",
    "#pca=PCA(0.9)\n",
    "#train_PCA = pca.fit_transform(data)\n",
    "#n_PCA_components = len(train_PCA)\n",
    "#print(principalComponents.shape)\n",
    "#test_PCA = pca.transform(data)"
   ]
  },
  {
   "cell_type": "code",
   "execution_count": 112,
   "metadata": {},
   "outputs": [],
   "source": [
    "import pickle as pk\n",
    "pk.dump(pca, open(\"data.pkl\",\"wb\"))"
   ]
  },
  {
   "cell_type": "code",
   "execution_count": null,
   "metadata": {},
   "outputs": [],
   "source": [
    "'''n_PCA_components = 1008\n",
    "pca = IncrementalPCA(n_components=n_PCA_components,batch_size=1008)\n",
    "train_PCA = pca.fit_transform(data)\n",
    "test_PCA = pca.transform(data)'''"
   ]
  },
  {
   "cell_type": "code",
   "execution_count": 36,
   "metadata": {},
   "outputs": [],
   "source": [
    "model = Sequential()\n",
    "model.add(InputLayer(input_shape=(n_PCA_components,)))\n",
    "model.add(Dense(1008,activation='sigmoid'))\n",
    "model.add(Dense(1008,activation='relu'))\n",
    "model.add(Dense(1008,activation='relu'))\n",
    "#model.add(Dense(1008,activation='sigmoid'))\n",
    "model.add(Dense(1096, kernel_regularizer=tf.keras.regularizers.l2(0.01),activation='softmax'))"
   ]
  },
  {
   "cell_type": "code",
   "execution_count": 16,
   "metadata": {},
   "outputs": [],
   "source": [
    "model.load_weights('./HOG_NN/vrindhavan_model_weights_iteration1.h5')"
   ]
  },
  {
   "cell_type": "code",
   "execution_count": null,
   "metadata": {},
   "outputs": [],
   "source": [
    "model.pop()\n",
    "model.add(Dense(1096, kernel_regularizer=tf.keras.regularizers.l2(0.01),activation='softmax'))\n",
    "model.summary()"
   ]
  },
  {
   "cell_type": "code",
   "execution_count": 10,
   "metadata": {},
   "outputs": [
    {
     "name": "stdout",
     "output_type": "stream",
     "text": [
      "Model: \"sequential\"\n",
      "_________________________________________________________________\n",
      "Layer (type)                 Output Shape              Param #   \n",
      "=================================================================\n",
      "dense (Dense)                (None, 1008)              1017072   \n",
      "_________________________________________________________________\n",
      "dense_1 (Dense)              (None, 1008)              1017072   \n",
      "_________________________________________________________________\n",
      "dense_2 (Dense)              (None, 1008)              1017072   \n",
      "_________________________________________________________________\n",
      "dense_3 (Dense)              (None, 1008)              1017072   \n",
      "_________________________________________________________________\n",
      "dense_4 (Dense)              (None, 1096)              1105864   \n",
      "=================================================================\n",
      "Total params: 5,174,152\n",
      "Trainable params: 5,174,152\n",
      "Non-trainable params: 0\n",
      "_________________________________________________________________\n"
     ]
    }
   ],
   "source": [
    "model.summary()"
   ]
  },
  {
   "cell_type": "code",
   "execution_count": 46,
   "metadata": {},
   "outputs": [
    {
     "name": "stdout",
     "output_type": "stream",
     "text": [
      "Train on 16439 samples\n",
      "Epoch 1/108\n",
      "16352/16439 [============================>.] - ETA: 0s - loss: 0.5878 - categorical_accuracy: 0.9329\n",
      "Epoch 00001: categorical_accuracy improved from -inf to 0.93272, saving model to ./HOG_NN/vrindhavan_model_weights_iteration1.h5\n",
      "16439/16439 [==============================] - 12s 730us/sample - loss: 0.5881 - categorical_accuracy: 0.9327\n",
      "Epoch 2/108\n",
      "16384/16439 [============================>.] - ETA: 0s - loss: 0.2514 - categorical_accuracy: 0.9720\n",
      "Epoch 00002: categorical_accuracy improved from 0.93272 to 0.97196, saving model to ./HOG_NN/vrindhavan_model_weights_iteration1.h5\n",
      "16439/16439 [==============================] - 12s 701us/sample - loss: 0.2514 - categorical_accuracy: 0.9720\n",
      "Epoch 3/108\n",
      "16416/16439 [============================>.] - ETA: 0s - loss: 0.2299 - categorical_accuracy: 0.9791\n",
      "Epoch 00003: categorical_accuracy improved from 0.97196 to 0.97907, saving model to ./HOG_NN/vrindhavan_model_weights_iteration1.h5\n",
      "16439/16439 [==============================] - 14s 843us/sample - loss: 0.2317 - categorical_accuracy: 0.9791\n",
      "Epoch 4/108\n",
      "16416/16439 [============================>.] - ETA: 0s - loss: 0.2447 - categorical_accuracy: 0.9792\n",
      "Epoch 00004: categorical_accuracy improved from 0.97907 to 0.97920, saving model to ./HOG_NN/vrindhavan_model_weights_iteration1.h5\n",
      "16439/16439 [==============================] - 22s 1ms/sample - loss: 0.2446 - categorical_accuracy: 0.9792\n",
      "Epoch 5/108\n",
      "16384/16439 [============================>.] - ETA: 0s - loss: 0.2258 - categorical_accuracy: 0.9855\n",
      "Epoch 00005: categorical_accuracy improved from 0.97920 to 0.98552, saving model to ./HOG_NN/vrindhavan_model_weights_iteration1.h5\n",
      "16439/16439 [==============================] - 22s 1ms/sample - loss: 0.2257 - categorical_accuracy: 0.9855\n",
      "Epoch 6/108\n",
      "16384/16439 [============================>.] - ETA: 0s - loss: 0.2671 - categorical_accuracy: 0.9775\n",
      "Epoch 00006: categorical_accuracy did not improve from 0.98552\n",
      "16439/16439 [==============================] - 22s 1ms/sample - loss: 0.2669 - categorical_accuracy: 0.9776\n",
      "Epoch 7/108\n",
      "16416/16439 [============================>.] - ETA: 0s - loss: 0.2816 - categorical_accuracy: 0.9808\n",
      "Epoch 00007: categorical_accuracy did not improve from 0.98552\n",
      "16439/16439 [==============================] - 22s 1ms/sample - loss: 0.2815 - categorical_accuracy: 0.9808\n",
      "Epoch 8/108\n",
      "16416/16439 [============================>.] - ETA: 0s - loss: 0.2815 - categorical_accuracy: 0.9843\n",
      "Epoch 00008: categorical_accuracy did not improve from 0.98552\n",
      "16439/16439 [==============================] - 22s 1ms/sample - loss: 0.2814 - categorical_accuracy: 0.9844\n",
      "Epoch 9/108\n",
      "16384/16439 [============================>.] - ETA: 0s - loss: 0.2439 - categorical_accuracy: 0.9875\n",
      "Epoch 00009: categorical_accuracy improved from 0.98552 to 0.98747, saving model to ./HOG_NN/vrindhavan_model_weights_iteration1.h5\n",
      "16439/16439 [==============================] - 22s 1ms/sample - loss: 0.2443 - categorical_accuracy: 0.9875\n",
      "Epoch 10/108\n",
      "16416/16439 [============================>.] - ETA: 0s - loss: 0.2531 - categorical_accuracy: 0.9837\n",
      "Epoch 00010: categorical_accuracy did not improve from 0.98747\n",
      "16439/16439 [==============================] - 22s 1ms/sample - loss: 0.2530 - categorical_accuracy: 0.9837\n",
      "Epoch 11/108\n",
      "16384/16439 [============================>.] - ETA: 0s - loss: 0.2599 - categorical_accuracy: 0.9850\n",
      "Epoch 00011: categorical_accuracy did not improve from 0.98747\n",
      "16439/16439 [==============================] - 22s 1ms/sample - loss: 0.2599 - categorical_accuracy: 0.9849\n",
      "Epoch 12/108\n",
      "16416/16439 [============================>.] - ETA: 0s - loss: 0.2442 - categorical_accuracy: 0.9865\n",
      "Epoch 00012: categorical_accuracy did not improve from 0.98747\n",
      "16439/16439 [==============================] - 22s 1ms/sample - loss: 0.2441 - categorical_accuracy: 0.9865\n",
      "Epoch 13/108\n",
      "16384/16439 [============================>.] - ETA: 0s - loss: 0.2675 - categorical_accuracy: 0.9833\n",
      "Epoch 00013: categorical_accuracy did not improve from 0.98747\n",
      "16439/16439 [==============================] - 22s 1ms/sample - loss: 0.2679 - categorical_accuracy: 0.9833\n",
      "Epoch 14/108\n",
      "16416/16439 [============================>.] - ETA: 0s - loss: 0.2622 - categorical_accuracy: 0.9838\n",
      "Epoch 00014: categorical_accuracy did not improve from 0.98747\n",
      "16439/16439 [==============================] - 22s 1ms/sample - loss: 0.2622 - categorical_accuracy: 0.9838\n",
      "Epoch 15/108\n",
      "16384/16439 [============================>.] - ETA: 0s - loss: 0.2706 - categorical_accuracy: 0.9843\n",
      "Epoch 00015: categorical_accuracy did not improve from 0.98747\n",
      "16439/16439 [==============================] - 22s 1ms/sample - loss: 0.2707 - categorical_accuracy: 0.9843\n",
      "Epoch 16/108\n",
      "16416/16439 [============================>.] - ETA: 0s - loss: 0.2557 - categorical_accuracy: 0.9861\n",
      "Epoch 00016: categorical_accuracy did not improve from 0.98747\n",
      "16439/16439 [==============================] - 22s 1ms/sample - loss: 0.2556 - categorical_accuracy: 0.9861\n",
      "Epoch 17/108\n",
      "16384/16439 [============================>.] - ETA: 0s - loss: 0.2265 - categorical_accuracy: 0.9872\n",
      "Epoch 00017: categorical_accuracy did not improve from 0.98747\n",
      "16439/16439 [==============================] - 22s 1ms/sample - loss: 0.2270 - categorical_accuracy: 0.9872\n",
      "Epoch 18/108\n",
      "16384/16439 [============================>.] - ETA: 0s - loss: 0.2355 - categorical_accuracy: 0.9869\n",
      "Epoch 00018: categorical_accuracy did not improve from 0.98747\n",
      "16439/16439 [==============================] - 22s 1ms/sample - loss: 0.2359 - categorical_accuracy: 0.9869\n",
      "Epoch 19/108\n",
      "16384/16439 [============================>.] - ETA: 0s - loss: 0.2671 - categorical_accuracy: 0.9805\n",
      "Epoch 00019: categorical_accuracy did not improve from 0.98747\n",
      "16439/16439 [==============================] - 22s 1ms/sample - loss: 0.2669 - categorical_accuracy: 0.9805\n",
      "Epoch 00019: early stopping\n",
      "Total execution time with PCA is:  0:06:31.704052\n"
     ]
    }
   ],
   "source": [
    "from tensorflow.keras.callbacks import ModelCheckpoint, EarlyStopping\n",
    "model.load_weights('./HOG_NN/vrindhavan_model_weights_iteration1.h5')\n",
    "\n",
    "checkpoint = ModelCheckpoint(\"./HOG_NN/vrindhavan_model_weights_iteration1.h5\", \n",
    "                             monitor='categorical_accuracy', \n",
    "                             verbose=1, \n",
    "                             save_best_only=True, \n",
    "                             save_weights_only=True, \n",
    "                             mode='auto', \n",
    "                             #save_freq=1\n",
    "                             )\n",
    "\n",
    "early = EarlyStopping(monitor='categorical_accuracy', \n",
    "                      min_delta=0, \n",
    "                      patience=10, \n",
    "                      verbose=1, \n",
    "                      mode='auto')\n",
    "Adam(\n",
    "    learning_rate=0.001,\n",
    "    beta_1=0.32,\n",
    "    beta_2=0.397,\n",
    "    epsilon=9e-08,\n",
    "    amsgrad=True,\n",
    "    name=\"Adam\", \n",
    ")\n",
    "\n",
    "model.compile(\n",
    "    optimizer='Adam',\n",
    "    loss='categorical_crossentropy',\n",
    "    metrics=['categorical_accuracy'])\n",
    "\n",
    "import datetime\n",
    "start = datetime.datetime.now()\n",
    "#Fit the model. Do not forget to use on-hot-encoded Y values. \n",
    "model.fit(train_PCA,OHE_labels, \n",
    "          epochs=108, \n",
    "          verbose=1,\n",
    "          callbacks=[checkpoint,early]\n",
    "          )\n",
    "\n",
    "end = datetime.datetime.now()\n",
    "print(\"Total execution time with PCA is: \", end-start)"
   ]
  },
  {
   "cell_type": "code",
   "execution_count": 47,
   "metadata": {},
   "outputs": [],
   "source": [
    "test_PCA = pca.transform(data) #Make sure you are just transforming, not fitting.\n",
    "##Predict on test dataset\n",
    "predict_test = model.predict(test_PCA)\n",
    "predict_test = np.argmax(predict_test, axis=1)\n",
    "predict_test = le.inverse_transform(predict_test)"
   ]
  },
  {
   "cell_type": "code",
   "execution_count": 48,
   "metadata": {},
   "outputs": [
    {
     "name": "stdout",
     "output_type": "stream",
     "text": [
      "Accuracy =  0.987043007482207\n"
     ]
    }
   ],
   "source": [
    "##Print overall accuracy\n",
    "from sklearn import metrics\n",
    "print (\"Accuracy = \", metrics.accuracy_score(labels, predict_test))"
   ]
  },
  {
   "cell_type": "code",
   "execution_count": null,
   "metadata": {},
   "outputs": [],
   "source": [
    "#Confusion Matrix - verify accuracy of each class\n",
    "from sklearn.metrics import confusion_matrix\n",
    "#testY=str(testY)\n",
    "cm = confusion_matrix(labels, predict_test)\n",
    "#print(cm)\n",
    "sns.heatmap(cm, annot=True)"
   ]
  },
  {
   "cell_type": "markdown",
   "metadata": {},
   "source": [
    "____0.bead black____\n",
    "____1.bead_flat____\n",
    "____2.bead colored____\n",
    "____3.flat____\n",
    "____4.flat_color____\n",
    "____5.Valley____\n",
    "____6.valley colored____\n",
    "____7.bead valley____"
   ]
  },
  {
   "cell_type": "code",
   "execution_count": 99,
   "metadata": {},
   "outputs": [
    {
     "name": "stdout",
     "output_type": "stream",
     "text": [
      "14390\n",
      "(7056,)\n",
      "(1, 7056)\n",
      "[959]\n",
      "The prediction for this image is:  ['6467']\n",
      "The actual label for this image is:  6467\n"
     ]
    }
   ],
   "source": [
    "#Check results on a few select images\n",
    "n=np.random.randint(0,data.shape[0])\n",
    "print(n)\n",
    "val = data[n]\n",
    "print(val.shape)\n",
    "x = np.expand_dims(val, axis=0) #Expand dims so the input is (num images, x, y, c)\n",
    "print(x.shape)\n",
    "# #Expand dims so the input is (num images, x, y, c)\n",
    "input_img_feature=x\n",
    "input_img_PCA = pca.transform(input_img_feature)\n",
    "prediction_img = model.predict(input_img_PCA)\n",
    "prediction_img = np.argmax(prediction_img, axis=1)\n",
    "print(prediction_img)\n",
    "prediction_img = le.inverse_transform(prediction_img)  #Reverse the label encoder to original name\n",
    "print(\"The prediction for this image is: \", prediction_img)\n",
    "print(\"The actual label for this image is: \", labels[n])"
   ]
  },
  {
   "cell_type": "code",
   "execution_count": 91,
   "metadata": {},
   "outputs": [],
   "source": [
    "model.save('Vrindhavan_Overall_sukirti.h5')"
   ]
  },
  {
   "cell_type": "code",
   "execution_count": null,
   "metadata": {},
   "outputs": [],
   "source": [
    "SIZE=256\n",
    "imagepath='./path/Dataset/Vrindhaavan_overall_backup/Vrindavan_overall/1464/Chatshikhar_Cow_Female_13.png'\n",
    "H=HOG(imagepath,SIZE)\n",
    "x = np.expand_dims(H, axis=0)\n",
    "input_img_feature=x\n",
    "input_img_PCA = pca.transform(input_img_feature)\n",
    "prediction_img = model.predict(input_img_PCA)\n",
    "prediction_img = np.argmax(prediction_img, axis=1)\n",
    "print(prediction_img)\n",
    "prediction_img = le.inverse_transform(prediction_img)  #Reverse the label encoder to original name\n",
    "print(\"The prediction for this image is: \", prediction_img)\n",
    "#print(\"The actual label for this image is: \", test_labels[n])"
   ]
  },
  {
   "cell_type": "code",
   "execution_count": null,
   "metadata": {},
   "outputs": [],
   "source": [
    "from tensorflow.keras import Model\n",
    "SIZE=256\n",
    "imagepath='./path/Dataset/Vrindhaavan_overall_backup/Vrindavan_overall/1464/Chatshikhar_Cow_Female_13.png'\n",
    "H=HOG(imagepath,SIZE)\n",
    "x = np.expand_dims(H, axis=0)\n",
    "input_img_feature=x\n",
    "input_img_PCA = pca.fit_transform(input_img_feature)\n",
    "all_model=load_('./Vrindhavan_Overall_sukirti.h5')\n",
    "prediction_img = all_model.predict(input_img_PCA)\n",
    "prediction_img = np.argmax(prediction_img, axis=1)\n",
    "print(prediction_img)\n",
    "prediction_img = le.inverse_transform(prediction_img)  #Reverse the label encoder to original name\n",
    "print(\"The prediction for this image is: \", prediction_img)\n",
    "#print(\"The actual label for this image is: \", test_labels[n])"
   ]
  }
 ],
 "metadata": {
  "kernelspec": {
   "display_name": "Python 3.7.13 ('GPU_ML')",
   "language": "python",
   "name": "python3"
  },
  "language_info": {
   "codemirror_mode": {
    "name": "ipython",
    "version": 3
   },
   "file_extension": ".py",
   "mimetype": "text/x-python",
   "name": "python",
   "nbconvert_exporter": "python",
   "pygments_lexer": "ipython3",
   "version": "3.7.13"
  },
  "orig_nbformat": 4,
  "vscode": {
   "interpreter": {
    "hash": "81d8000a49e387cd3bf236de4b1b0050e70533eb5acd278118fdc7c0243f6cc5"
   }
  }
 },
 "nbformat": 4,
 "nbformat_minor": 2
}
